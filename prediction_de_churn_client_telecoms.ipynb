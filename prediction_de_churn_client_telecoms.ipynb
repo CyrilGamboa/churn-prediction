{
  "cells": [
    {
      "cell_type": "markdown",
      "metadata": {},
      "source": [
        "# Prédiction de Churn Client — Télécoms (Notebook d'évaluation)\n",
        "\n",
        "Ce notebook présente **l'évaluation** d'un modèle de churn entraîné hors-notebook (script `train.py`).\n",
        "Il sert de **rapport technique** : contexte, EDA minimale, métriques, visualisations (matrice de confusion, ROC) et **choix du seuil**.\n",
        "\n",
        "**Remarque importante** : aucune étape d'entraînement n'est réalisée ici. Le modèle doit être disponible sous `app/model/xgb_churn_pipeline.pkl` et le jeu de test sous `app/model/test_set.csv` (généré par `train.py`).\n"
      ]
    },
    {
      "cell_type": "markdown",
      "metadata": {},
      "source": [
        "## 1. Pré-requis\n",
        "- Modèle entraîné : `app/model/xgb_churn_pipeline.pkl`\n",
        "- Jeu de test sauvegardé : `app/model/test_set.csv`\n",
        "- Dataset source (pour EDA) : CSV IBM Telco (ex. `data/WA_Fn-UseC_-Telco-Customer-Churn.csv` ou `Telco-Customer-Churn.csv`).\n",
        "\n",
        "Si nécessaire, installez les dépendances (à exécuter une seule fois) :\n",
        "\n",
        "```python\n",
        "# !pip install pandas numpy seaborn plotly scikit-learn joblib\n",
        "```\n"
      ]
    },
    {
      "cell_type": "code",
      "execution_count": 1,
      "metadata": {},
      "outputs": [],
      "source": [
        "# Imports\n",
        "import os\n",
        "import json\n",
        "import numpy as np\n",
        "import pandas as pd\n",
        "import seaborn as sns\n",
        "import matplotlib.pyplot as plt\n",
        "import plotly.express as px\n",
        "import plotly.graph_objects as go\n",
        "from plotly.subplots import make_subplots\n",
        "import joblib\n",
        "from sklearn.metrics import (classification_report, confusion_matrix, roc_curve, auc,\n",
        "                             precision_recall_fscore_support)\n",
        "from sklearn.model_selection import train_test_split\n",
        "\n",
        "sns.set_theme(style=\"whitegrid\")\n",
        "pd.set_option('display.max_columns', 100)\n",
        "THRESHOLD_DEFAULT = 0.40  # seuil recommandé (F1 optimal observé)\n"
      ]
    },
    {
      "cell_type": "markdown",
      "metadata": {},
      "source": [
        "## 2. Chargement du dataset source (EDA)\n",
        "L'objectif est de fournir un **aperçu** des données sans refaire l'entraînement.\n",
        "Le dataset est utilisé ici pour l'EDA uniquement.\n"
      ]
    },
    {
      "cell_type": "code",
      "execution_count": 2,
      "metadata": {},
      "outputs": [
        {
          "name": "stdout",
          "output_type": "stream",
          "text": [
            "Path to dataset files: C:\\Users\\cgamb\\.cache\\kagglehub\\datasets\\blastchar\\telco-customer-churn\\versions\\1\n"
          ]
        }
      ],
      "source": [
        "import kagglehub\n",
        "\n",
        "# Download latest version\n",
        "path = kagglehub.dataset_download(\"blastchar/telco-customer-churn\")\n",
        "\n",
        "print(\"Path to dataset files:\", path)\n",
        "\n",
        "# Chargement\n",
        "df_raw = pd.read_csv(f\"{path}/WA_Fn-UseC_-Telco-Customer-Churn.csv\")\n"
      ]
    },
    {
      "cell_type": "code",
      "execution_count": 3,
      "metadata": {},
      "outputs": [
        {
          "name": "stdout",
          "output_type": "stream",
          "text": [
            "Après nettoyage: (7032, 20)\n"
          ]
        },
        {
          "data": {
            "text/html": [
              "<div>\n",
              "<style scoped>\n",
              "    .dataframe tbody tr th:only-of-type {\n",
              "        vertical-align: middle;\n",
              "    }\n",
              "\n",
              "    .dataframe tbody tr th {\n",
              "        vertical-align: top;\n",
              "    }\n",
              "\n",
              "    .dataframe thead th {\n",
              "        text-align: right;\n",
              "    }\n",
              "</style>\n",
              "<table border=\"1\" class=\"dataframe\">\n",
              "  <thead>\n",
              "    <tr style=\"text-align: right;\">\n",
              "      <th></th>\n",
              "      <th>count</th>\n",
              "      <th>unique</th>\n",
              "      <th>top</th>\n",
              "      <th>freq</th>\n",
              "      <th>mean</th>\n",
              "      <th>std</th>\n",
              "      <th>min</th>\n",
              "      <th>25%</th>\n",
              "      <th>50%</th>\n",
              "      <th>75%</th>\n",
              "      <th>max</th>\n",
              "    </tr>\n",
              "  </thead>\n",
              "  <tbody>\n",
              "    <tr>\n",
              "      <th>gender</th>\n",
              "      <td>7032</td>\n",
              "      <td>2</td>\n",
              "      <td>Male</td>\n",
              "      <td>3549</td>\n",
              "      <td>NaN</td>\n",
              "      <td>NaN</td>\n",
              "      <td>NaN</td>\n",
              "      <td>NaN</td>\n",
              "      <td>NaN</td>\n",
              "      <td>NaN</td>\n",
              "      <td>NaN</td>\n",
              "    </tr>\n",
              "    <tr>\n",
              "      <th>SeniorCitizen</th>\n",
              "      <td>7032.0</td>\n",
              "      <td>NaN</td>\n",
              "      <td>NaN</td>\n",
              "      <td>NaN</td>\n",
              "      <td>0.1624</td>\n",
              "      <td>0.368844</td>\n",
              "      <td>0.0</td>\n",
              "      <td>0.0</td>\n",
              "      <td>0.0</td>\n",
              "      <td>0.0</td>\n",
              "      <td>1.0</td>\n",
              "    </tr>\n",
              "    <tr>\n",
              "      <th>Partner</th>\n",
              "      <td>7032</td>\n",
              "      <td>2</td>\n",
              "      <td>No</td>\n",
              "      <td>3639</td>\n",
              "      <td>NaN</td>\n",
              "      <td>NaN</td>\n",
              "      <td>NaN</td>\n",
              "      <td>NaN</td>\n",
              "      <td>NaN</td>\n",
              "      <td>NaN</td>\n",
              "      <td>NaN</td>\n",
              "    </tr>\n",
              "    <tr>\n",
              "      <th>Dependents</th>\n",
              "      <td>7032</td>\n",
              "      <td>2</td>\n",
              "      <td>No</td>\n",
              "      <td>4933</td>\n",
              "      <td>NaN</td>\n",
              "      <td>NaN</td>\n",
              "      <td>NaN</td>\n",
              "      <td>NaN</td>\n",
              "      <td>NaN</td>\n",
              "      <td>NaN</td>\n",
              "      <td>NaN</td>\n",
              "    </tr>\n",
              "    <tr>\n",
              "      <th>tenure</th>\n",
              "      <td>7032.0</td>\n",
              "      <td>NaN</td>\n",
              "      <td>NaN</td>\n",
              "      <td>NaN</td>\n",
              "      <td>32.421786</td>\n",
              "      <td>24.54526</td>\n",
              "      <td>1.0</td>\n",
              "      <td>9.0</td>\n",
              "      <td>29.0</td>\n",
              "      <td>55.0</td>\n",
              "      <td>72.0</td>\n",
              "    </tr>\n",
              "    <tr>\n",
              "      <th>PhoneService</th>\n",
              "      <td>7032</td>\n",
              "      <td>2</td>\n",
              "      <td>Yes</td>\n",
              "      <td>6352</td>\n",
              "      <td>NaN</td>\n",
              "      <td>NaN</td>\n",
              "      <td>NaN</td>\n",
              "      <td>NaN</td>\n",
              "      <td>NaN</td>\n",
              "      <td>NaN</td>\n",
              "      <td>NaN</td>\n",
              "    </tr>\n",
              "    <tr>\n",
              "      <th>MultipleLines</th>\n",
              "      <td>7032</td>\n",
              "      <td>3</td>\n",
              "      <td>No</td>\n",
              "      <td>3385</td>\n",
              "      <td>NaN</td>\n",
              "      <td>NaN</td>\n",
              "      <td>NaN</td>\n",
              "      <td>NaN</td>\n",
              "      <td>NaN</td>\n",
              "      <td>NaN</td>\n",
              "      <td>NaN</td>\n",
              "    </tr>\n",
              "    <tr>\n",
              "      <th>InternetService</th>\n",
              "      <td>7032</td>\n",
              "      <td>3</td>\n",
              "      <td>Fiber optic</td>\n",
              "      <td>3096</td>\n",
              "      <td>NaN</td>\n",
              "      <td>NaN</td>\n",
              "      <td>NaN</td>\n",
              "      <td>NaN</td>\n",
              "      <td>NaN</td>\n",
              "      <td>NaN</td>\n",
              "      <td>NaN</td>\n",
              "    </tr>\n",
              "    <tr>\n",
              "      <th>OnlineSecurity</th>\n",
              "      <td>7032</td>\n",
              "      <td>3</td>\n",
              "      <td>No</td>\n",
              "      <td>3497</td>\n",
              "      <td>NaN</td>\n",
              "      <td>NaN</td>\n",
              "      <td>NaN</td>\n",
              "      <td>NaN</td>\n",
              "      <td>NaN</td>\n",
              "      <td>NaN</td>\n",
              "      <td>NaN</td>\n",
              "    </tr>\n",
              "    <tr>\n",
              "      <th>OnlineBackup</th>\n",
              "      <td>7032</td>\n",
              "      <td>3</td>\n",
              "      <td>No</td>\n",
              "      <td>3087</td>\n",
              "      <td>NaN</td>\n",
              "      <td>NaN</td>\n",
              "      <td>NaN</td>\n",
              "      <td>NaN</td>\n",
              "      <td>NaN</td>\n",
              "      <td>NaN</td>\n",
              "      <td>NaN</td>\n",
              "    </tr>\n",
              "    <tr>\n",
              "      <th>DeviceProtection</th>\n",
              "      <td>7032</td>\n",
              "      <td>3</td>\n",
              "      <td>No</td>\n",
              "      <td>3094</td>\n",
              "      <td>NaN</td>\n",
              "      <td>NaN</td>\n",
              "      <td>NaN</td>\n",
              "      <td>NaN</td>\n",
              "      <td>NaN</td>\n",
              "      <td>NaN</td>\n",
              "      <td>NaN</td>\n",
              "    </tr>\n",
              "    <tr>\n",
              "      <th>TechSupport</th>\n",
              "      <td>7032</td>\n",
              "      <td>3</td>\n",
              "      <td>No</td>\n",
              "      <td>3472</td>\n",
              "      <td>NaN</td>\n",
              "      <td>NaN</td>\n",
              "      <td>NaN</td>\n",
              "      <td>NaN</td>\n",
              "      <td>NaN</td>\n",
              "      <td>NaN</td>\n",
              "      <td>NaN</td>\n",
              "    </tr>\n",
              "    <tr>\n",
              "      <th>StreamingTV</th>\n",
              "      <td>7032</td>\n",
              "      <td>3</td>\n",
              "      <td>No</td>\n",
              "      <td>2809</td>\n",
              "      <td>NaN</td>\n",
              "      <td>NaN</td>\n",
              "      <td>NaN</td>\n",
              "      <td>NaN</td>\n",
              "      <td>NaN</td>\n",
              "      <td>NaN</td>\n",
              "      <td>NaN</td>\n",
              "    </tr>\n",
              "    <tr>\n",
              "      <th>StreamingMovies</th>\n",
              "      <td>7032</td>\n",
              "      <td>3</td>\n",
              "      <td>No</td>\n",
              "      <td>2781</td>\n",
              "      <td>NaN</td>\n",
              "      <td>NaN</td>\n",
              "      <td>NaN</td>\n",
              "      <td>NaN</td>\n",
              "      <td>NaN</td>\n",
              "      <td>NaN</td>\n",
              "      <td>NaN</td>\n",
              "    </tr>\n",
              "    <tr>\n",
              "      <th>Contract</th>\n",
              "      <td>7032</td>\n",
              "      <td>3</td>\n",
              "      <td>Month-to-month</td>\n",
              "      <td>3875</td>\n",
              "      <td>NaN</td>\n",
              "      <td>NaN</td>\n",
              "      <td>NaN</td>\n",
              "      <td>NaN</td>\n",
              "      <td>NaN</td>\n",
              "      <td>NaN</td>\n",
              "      <td>NaN</td>\n",
              "    </tr>\n",
              "    <tr>\n",
              "      <th>PaperlessBilling</th>\n",
              "      <td>7032</td>\n",
              "      <td>2</td>\n",
              "      <td>Yes</td>\n",
              "      <td>4168</td>\n",
              "      <td>NaN</td>\n",
              "      <td>NaN</td>\n",
              "      <td>NaN</td>\n",
              "      <td>NaN</td>\n",
              "      <td>NaN</td>\n",
              "      <td>NaN</td>\n",
              "      <td>NaN</td>\n",
              "    </tr>\n",
              "    <tr>\n",
              "      <th>PaymentMethod</th>\n",
              "      <td>7032</td>\n",
              "      <td>4</td>\n",
              "      <td>Electronic check</td>\n",
              "      <td>2365</td>\n",
              "      <td>NaN</td>\n",
              "      <td>NaN</td>\n",
              "      <td>NaN</td>\n",
              "      <td>NaN</td>\n",
              "      <td>NaN</td>\n",
              "      <td>NaN</td>\n",
              "      <td>NaN</td>\n",
              "    </tr>\n",
              "    <tr>\n",
              "      <th>MonthlyCharges</th>\n",
              "      <td>7032.0</td>\n",
              "      <td>NaN</td>\n",
              "      <td>NaN</td>\n",
              "      <td>NaN</td>\n",
              "      <td>64.798208</td>\n",
              "      <td>30.085974</td>\n",
              "      <td>18.25</td>\n",
              "      <td>35.5875</td>\n",
              "      <td>70.35</td>\n",
              "      <td>89.8625</td>\n",
              "      <td>118.75</td>\n",
              "    </tr>\n",
              "    <tr>\n",
              "      <th>TotalCharges</th>\n",
              "      <td>7032.0</td>\n",
              "      <td>NaN</td>\n",
              "      <td>NaN</td>\n",
              "      <td>NaN</td>\n",
              "      <td>2283.300441</td>\n",
              "      <td>2266.771362</td>\n",
              "      <td>18.8</td>\n",
              "      <td>401.45</td>\n",
              "      <td>1397.475</td>\n",
              "      <td>3794.7375</td>\n",
              "      <td>8684.8</td>\n",
              "    </tr>\n",
              "    <tr>\n",
              "      <th>Churn</th>\n",
              "      <td>7032.0</td>\n",
              "      <td>NaN</td>\n",
              "      <td>NaN</td>\n",
              "      <td>NaN</td>\n",
              "      <td>0.265785</td>\n",
              "      <td>0.441782</td>\n",
              "      <td>0.0</td>\n",
              "      <td>0.0</td>\n",
              "      <td>0.0</td>\n",
              "      <td>1.0</td>\n",
              "      <td>1.0</td>\n",
              "    </tr>\n",
              "  </tbody>\n",
              "</table>\n",
              "</div>"
            ],
            "text/plain": [
              "                   count unique               top  freq         mean  \\\n",
              "gender              7032      2              Male  3549          NaN   \n",
              "SeniorCitizen     7032.0    NaN               NaN   NaN       0.1624   \n",
              "Partner             7032      2                No  3639          NaN   \n",
              "Dependents          7032      2                No  4933          NaN   \n",
              "tenure            7032.0    NaN               NaN   NaN    32.421786   \n",
              "PhoneService        7032      2               Yes  6352          NaN   \n",
              "MultipleLines       7032      3                No  3385          NaN   \n",
              "InternetService     7032      3       Fiber optic  3096          NaN   \n",
              "OnlineSecurity      7032      3                No  3497          NaN   \n",
              "OnlineBackup        7032      3                No  3087          NaN   \n",
              "DeviceProtection    7032      3                No  3094          NaN   \n",
              "TechSupport         7032      3                No  3472          NaN   \n",
              "StreamingTV         7032      3                No  2809          NaN   \n",
              "StreamingMovies     7032      3                No  2781          NaN   \n",
              "Contract            7032      3    Month-to-month  3875          NaN   \n",
              "PaperlessBilling    7032      2               Yes  4168          NaN   \n",
              "PaymentMethod       7032      4  Electronic check  2365          NaN   \n",
              "MonthlyCharges    7032.0    NaN               NaN   NaN    64.798208   \n",
              "TotalCharges      7032.0    NaN               NaN   NaN  2283.300441   \n",
              "Churn             7032.0    NaN               NaN   NaN     0.265785   \n",
              "\n",
              "                          std    min      25%       50%        75%     max  \n",
              "gender                    NaN    NaN      NaN       NaN        NaN     NaN  \n",
              "SeniorCitizen        0.368844    0.0      0.0       0.0        0.0     1.0  \n",
              "Partner                   NaN    NaN      NaN       NaN        NaN     NaN  \n",
              "Dependents                NaN    NaN      NaN       NaN        NaN     NaN  \n",
              "tenure               24.54526    1.0      9.0      29.0       55.0    72.0  \n",
              "PhoneService              NaN    NaN      NaN       NaN        NaN     NaN  \n",
              "MultipleLines             NaN    NaN      NaN       NaN        NaN     NaN  \n",
              "InternetService           NaN    NaN      NaN       NaN        NaN     NaN  \n",
              "OnlineSecurity            NaN    NaN      NaN       NaN        NaN     NaN  \n",
              "OnlineBackup              NaN    NaN      NaN       NaN        NaN     NaN  \n",
              "DeviceProtection          NaN    NaN      NaN       NaN        NaN     NaN  \n",
              "TechSupport               NaN    NaN      NaN       NaN        NaN     NaN  \n",
              "StreamingTV               NaN    NaN      NaN       NaN        NaN     NaN  \n",
              "StreamingMovies           NaN    NaN      NaN       NaN        NaN     NaN  \n",
              "Contract                  NaN    NaN      NaN       NaN        NaN     NaN  \n",
              "PaperlessBilling          NaN    NaN      NaN       NaN        NaN     NaN  \n",
              "PaymentMethod             NaN    NaN      NaN       NaN        NaN     NaN  \n",
              "MonthlyCharges      30.085974  18.25  35.5875     70.35    89.8625  118.75  \n",
              "TotalCharges      2266.771362   18.8   401.45  1397.475  3794.7375  8684.8  \n",
              "Churn                0.441782    0.0      0.0       0.0        1.0     1.0  "
            ]
          },
          "execution_count": 3,
          "metadata": {},
          "output_type": "execute_result"
        }
      ],
      "source": [
        "# Nettoyage minimal identique à l'entraînement (sans features engineering avancé)\n",
        "df = df_raw.copy()\n",
        "df['TotalCharges'] = pd.to_numeric(df['TotalCharges'], errors='coerce')\n",
        "df = df.dropna(subset=['TotalCharges']).copy()\n",
        "if 'customerID' in df.columns:\n",
        "    df = df.drop(columns=['customerID'])\n",
        "df['Churn'] = df['Churn'].map({'Yes': 1, 'No': 0})\n",
        "\n",
        "print('Après nettoyage:', df.shape)\n",
        "df.describe(include='all').T.head(20)\n"
      ]
    },
    {
      "cell_type": "markdown",
      "metadata": {},
      "source": [
        "### 2.1. Répartition de la cible et distributions clés\n",
        "La répartition de la cible (`Churn`) et les distributions de variables continues (ex. `tenure`, `MonthlyCharges`) aident à comprendre le phénomène.\n"
      ]
    },
    {
      "cell_type": "code",
      "execution_count": 4,
      "metadata": {},
      "outputs": [
        {
          "data": {
            "application/vnd.plotly.v1+json": {
              "config": {
                "plotlyServerURL": "https://plot.ly"
              },
              "data": [
                {
                  "hovertemplate": "variable=count<br>Churn=%{x}<br>value=%{y}<extra></extra>",
                  "legendgroup": "count",
                  "marker": {
                    "color": "#636efa",
                    "pattern": {
                      "shape": ""
                    }
                  },
                  "name": "count",
                  "orientation": "v",
                  "showlegend": true,
                  "textposition": "auto",
                  "type": "bar",
                  "x": [
                    "No",
                    "Yes"
                  ],
                  "xaxis": "x",
                  "y": {
                    "bdata": "KxRNBw==",
                    "dtype": "i2"
                  },
                  "yaxis": "y"
                }
              ],
              "layout": {
                "barmode": "relative",
                "legend": {
                  "title": {
                    "text": "variable"
                  },
                  "tracegroupgap": 0
                },
                "template": {
                  "data": {
                    "bar": [
                      {
                        "error_x": {
                          "color": "#2a3f5f"
                        },
                        "error_y": {
                          "color": "#2a3f5f"
                        },
                        "marker": {
                          "line": {
                            "color": "#E5ECF6",
                            "width": 0.5
                          },
                          "pattern": {
                            "fillmode": "overlay",
                            "size": 10,
                            "solidity": 0.2
                          }
                        },
                        "type": "bar"
                      }
                    ],
                    "barpolar": [
                      {
                        "marker": {
                          "line": {
                            "color": "#E5ECF6",
                            "width": 0.5
                          },
                          "pattern": {
                            "fillmode": "overlay",
                            "size": 10,
                            "solidity": 0.2
                          }
                        },
                        "type": "barpolar"
                      }
                    ],
                    "carpet": [
                      {
                        "aaxis": {
                          "endlinecolor": "#2a3f5f",
                          "gridcolor": "white",
                          "linecolor": "white",
                          "minorgridcolor": "white",
                          "startlinecolor": "#2a3f5f"
                        },
                        "baxis": {
                          "endlinecolor": "#2a3f5f",
                          "gridcolor": "white",
                          "linecolor": "white",
                          "minorgridcolor": "white",
                          "startlinecolor": "#2a3f5f"
                        },
                        "type": "carpet"
                      }
                    ],
                    "choropleth": [
                      {
                        "colorbar": {
                          "outlinewidth": 0,
                          "ticks": ""
                        },
                        "type": "choropleth"
                      }
                    ],
                    "contour": [
                      {
                        "colorbar": {
                          "outlinewidth": 0,
                          "ticks": ""
                        },
                        "colorscale": [
                          [
                            0,
                            "#0d0887"
                          ],
                          [
                            0.1111111111111111,
                            "#46039f"
                          ],
                          [
                            0.2222222222222222,
                            "#7201a8"
                          ],
                          [
                            0.3333333333333333,
                            "#9c179e"
                          ],
                          [
                            0.4444444444444444,
                            "#bd3786"
                          ],
                          [
                            0.5555555555555556,
                            "#d8576b"
                          ],
                          [
                            0.6666666666666666,
                            "#ed7953"
                          ],
                          [
                            0.7777777777777778,
                            "#fb9f3a"
                          ],
                          [
                            0.8888888888888888,
                            "#fdca26"
                          ],
                          [
                            1,
                            "#f0f921"
                          ]
                        ],
                        "type": "contour"
                      }
                    ],
                    "contourcarpet": [
                      {
                        "colorbar": {
                          "outlinewidth": 0,
                          "ticks": ""
                        },
                        "type": "contourcarpet"
                      }
                    ],
                    "heatmap": [
                      {
                        "colorbar": {
                          "outlinewidth": 0,
                          "ticks": ""
                        },
                        "colorscale": [
                          [
                            0,
                            "#0d0887"
                          ],
                          [
                            0.1111111111111111,
                            "#46039f"
                          ],
                          [
                            0.2222222222222222,
                            "#7201a8"
                          ],
                          [
                            0.3333333333333333,
                            "#9c179e"
                          ],
                          [
                            0.4444444444444444,
                            "#bd3786"
                          ],
                          [
                            0.5555555555555556,
                            "#d8576b"
                          ],
                          [
                            0.6666666666666666,
                            "#ed7953"
                          ],
                          [
                            0.7777777777777778,
                            "#fb9f3a"
                          ],
                          [
                            0.8888888888888888,
                            "#fdca26"
                          ],
                          [
                            1,
                            "#f0f921"
                          ]
                        ],
                        "type": "heatmap"
                      }
                    ],
                    "histogram": [
                      {
                        "marker": {
                          "pattern": {
                            "fillmode": "overlay",
                            "size": 10,
                            "solidity": 0.2
                          }
                        },
                        "type": "histogram"
                      }
                    ],
                    "histogram2d": [
                      {
                        "colorbar": {
                          "outlinewidth": 0,
                          "ticks": ""
                        },
                        "colorscale": [
                          [
                            0,
                            "#0d0887"
                          ],
                          [
                            0.1111111111111111,
                            "#46039f"
                          ],
                          [
                            0.2222222222222222,
                            "#7201a8"
                          ],
                          [
                            0.3333333333333333,
                            "#9c179e"
                          ],
                          [
                            0.4444444444444444,
                            "#bd3786"
                          ],
                          [
                            0.5555555555555556,
                            "#d8576b"
                          ],
                          [
                            0.6666666666666666,
                            "#ed7953"
                          ],
                          [
                            0.7777777777777778,
                            "#fb9f3a"
                          ],
                          [
                            0.8888888888888888,
                            "#fdca26"
                          ],
                          [
                            1,
                            "#f0f921"
                          ]
                        ],
                        "type": "histogram2d"
                      }
                    ],
                    "histogram2dcontour": [
                      {
                        "colorbar": {
                          "outlinewidth": 0,
                          "ticks": ""
                        },
                        "colorscale": [
                          [
                            0,
                            "#0d0887"
                          ],
                          [
                            0.1111111111111111,
                            "#46039f"
                          ],
                          [
                            0.2222222222222222,
                            "#7201a8"
                          ],
                          [
                            0.3333333333333333,
                            "#9c179e"
                          ],
                          [
                            0.4444444444444444,
                            "#bd3786"
                          ],
                          [
                            0.5555555555555556,
                            "#d8576b"
                          ],
                          [
                            0.6666666666666666,
                            "#ed7953"
                          ],
                          [
                            0.7777777777777778,
                            "#fb9f3a"
                          ],
                          [
                            0.8888888888888888,
                            "#fdca26"
                          ],
                          [
                            1,
                            "#f0f921"
                          ]
                        ],
                        "type": "histogram2dcontour"
                      }
                    ],
                    "mesh3d": [
                      {
                        "colorbar": {
                          "outlinewidth": 0,
                          "ticks": ""
                        },
                        "type": "mesh3d"
                      }
                    ],
                    "parcoords": [
                      {
                        "line": {
                          "colorbar": {
                            "outlinewidth": 0,
                            "ticks": ""
                          }
                        },
                        "type": "parcoords"
                      }
                    ],
                    "pie": [
                      {
                        "automargin": true,
                        "type": "pie"
                      }
                    ],
                    "scatter": [
                      {
                        "fillpattern": {
                          "fillmode": "overlay",
                          "size": 10,
                          "solidity": 0.2
                        },
                        "type": "scatter"
                      }
                    ],
                    "scatter3d": [
                      {
                        "line": {
                          "colorbar": {
                            "outlinewidth": 0,
                            "ticks": ""
                          }
                        },
                        "marker": {
                          "colorbar": {
                            "outlinewidth": 0,
                            "ticks": ""
                          }
                        },
                        "type": "scatter3d"
                      }
                    ],
                    "scattercarpet": [
                      {
                        "marker": {
                          "colorbar": {
                            "outlinewidth": 0,
                            "ticks": ""
                          }
                        },
                        "type": "scattercarpet"
                      }
                    ],
                    "scattergeo": [
                      {
                        "marker": {
                          "colorbar": {
                            "outlinewidth": 0,
                            "ticks": ""
                          }
                        },
                        "type": "scattergeo"
                      }
                    ],
                    "scattergl": [
                      {
                        "marker": {
                          "colorbar": {
                            "outlinewidth": 0,
                            "ticks": ""
                          }
                        },
                        "type": "scattergl"
                      }
                    ],
                    "scattermap": [
                      {
                        "marker": {
                          "colorbar": {
                            "outlinewidth": 0,
                            "ticks": ""
                          }
                        },
                        "type": "scattermap"
                      }
                    ],
                    "scattermapbox": [
                      {
                        "marker": {
                          "colorbar": {
                            "outlinewidth": 0,
                            "ticks": ""
                          }
                        },
                        "type": "scattermapbox"
                      }
                    ],
                    "scatterpolar": [
                      {
                        "marker": {
                          "colorbar": {
                            "outlinewidth": 0,
                            "ticks": ""
                          }
                        },
                        "type": "scatterpolar"
                      }
                    ],
                    "scatterpolargl": [
                      {
                        "marker": {
                          "colorbar": {
                            "outlinewidth": 0,
                            "ticks": ""
                          }
                        },
                        "type": "scatterpolargl"
                      }
                    ],
                    "scatterternary": [
                      {
                        "marker": {
                          "colorbar": {
                            "outlinewidth": 0,
                            "ticks": ""
                          }
                        },
                        "type": "scatterternary"
                      }
                    ],
                    "surface": [
                      {
                        "colorbar": {
                          "outlinewidth": 0,
                          "ticks": ""
                        },
                        "colorscale": [
                          [
                            0,
                            "#0d0887"
                          ],
                          [
                            0.1111111111111111,
                            "#46039f"
                          ],
                          [
                            0.2222222222222222,
                            "#7201a8"
                          ],
                          [
                            0.3333333333333333,
                            "#9c179e"
                          ],
                          [
                            0.4444444444444444,
                            "#bd3786"
                          ],
                          [
                            0.5555555555555556,
                            "#d8576b"
                          ],
                          [
                            0.6666666666666666,
                            "#ed7953"
                          ],
                          [
                            0.7777777777777778,
                            "#fb9f3a"
                          ],
                          [
                            0.8888888888888888,
                            "#fdca26"
                          ],
                          [
                            1,
                            "#f0f921"
                          ]
                        ],
                        "type": "surface"
                      }
                    ],
                    "table": [
                      {
                        "cells": {
                          "fill": {
                            "color": "#EBF0F8"
                          },
                          "line": {
                            "color": "white"
                          }
                        },
                        "header": {
                          "fill": {
                            "color": "#C8D4E3"
                          },
                          "line": {
                            "color": "white"
                          }
                        },
                        "type": "table"
                      }
                    ]
                  },
                  "layout": {
                    "annotationdefaults": {
                      "arrowcolor": "#2a3f5f",
                      "arrowhead": 0,
                      "arrowwidth": 1
                    },
                    "autotypenumbers": "strict",
                    "coloraxis": {
                      "colorbar": {
                        "outlinewidth": 0,
                        "ticks": ""
                      }
                    },
                    "colorscale": {
                      "diverging": [
                        [
                          0,
                          "#8e0152"
                        ],
                        [
                          0.1,
                          "#c51b7d"
                        ],
                        [
                          0.2,
                          "#de77ae"
                        ],
                        [
                          0.3,
                          "#f1b6da"
                        ],
                        [
                          0.4,
                          "#fde0ef"
                        ],
                        [
                          0.5,
                          "#f7f7f7"
                        ],
                        [
                          0.6,
                          "#e6f5d0"
                        ],
                        [
                          0.7,
                          "#b8e186"
                        ],
                        [
                          0.8,
                          "#7fbc41"
                        ],
                        [
                          0.9,
                          "#4d9221"
                        ],
                        [
                          1,
                          "#276419"
                        ]
                      ],
                      "sequential": [
                        [
                          0,
                          "#0d0887"
                        ],
                        [
                          0.1111111111111111,
                          "#46039f"
                        ],
                        [
                          0.2222222222222222,
                          "#7201a8"
                        ],
                        [
                          0.3333333333333333,
                          "#9c179e"
                        ],
                        [
                          0.4444444444444444,
                          "#bd3786"
                        ],
                        [
                          0.5555555555555556,
                          "#d8576b"
                        ],
                        [
                          0.6666666666666666,
                          "#ed7953"
                        ],
                        [
                          0.7777777777777778,
                          "#fb9f3a"
                        ],
                        [
                          0.8888888888888888,
                          "#fdca26"
                        ],
                        [
                          1,
                          "#f0f921"
                        ]
                      ],
                      "sequentialminus": [
                        [
                          0,
                          "#0d0887"
                        ],
                        [
                          0.1111111111111111,
                          "#46039f"
                        ],
                        [
                          0.2222222222222222,
                          "#7201a8"
                        ],
                        [
                          0.3333333333333333,
                          "#9c179e"
                        ],
                        [
                          0.4444444444444444,
                          "#bd3786"
                        ],
                        [
                          0.5555555555555556,
                          "#d8576b"
                        ],
                        [
                          0.6666666666666666,
                          "#ed7953"
                        ],
                        [
                          0.7777777777777778,
                          "#fb9f3a"
                        ],
                        [
                          0.8888888888888888,
                          "#fdca26"
                        ],
                        [
                          1,
                          "#f0f921"
                        ]
                      ]
                    },
                    "colorway": [
                      "#636efa",
                      "#EF553B",
                      "#00cc96",
                      "#ab63fa",
                      "#FFA15A",
                      "#19d3f3",
                      "#FF6692",
                      "#B6E880",
                      "#FF97FF",
                      "#FECB52"
                    ],
                    "font": {
                      "color": "#2a3f5f"
                    },
                    "geo": {
                      "bgcolor": "white",
                      "lakecolor": "white",
                      "landcolor": "#E5ECF6",
                      "showlakes": true,
                      "showland": true,
                      "subunitcolor": "white"
                    },
                    "hoverlabel": {
                      "align": "left"
                    },
                    "hovermode": "closest",
                    "mapbox": {
                      "style": "light"
                    },
                    "paper_bgcolor": "white",
                    "plot_bgcolor": "#E5ECF6",
                    "polar": {
                      "angularaxis": {
                        "gridcolor": "white",
                        "linecolor": "white",
                        "ticks": ""
                      },
                      "bgcolor": "#E5ECF6",
                      "radialaxis": {
                        "gridcolor": "white",
                        "linecolor": "white",
                        "ticks": ""
                      }
                    },
                    "scene": {
                      "xaxis": {
                        "backgroundcolor": "#E5ECF6",
                        "gridcolor": "white",
                        "gridwidth": 2,
                        "linecolor": "white",
                        "showbackground": true,
                        "ticks": "",
                        "zerolinecolor": "white"
                      },
                      "yaxis": {
                        "backgroundcolor": "#E5ECF6",
                        "gridcolor": "white",
                        "gridwidth": 2,
                        "linecolor": "white",
                        "showbackground": true,
                        "ticks": "",
                        "zerolinecolor": "white"
                      },
                      "zaxis": {
                        "backgroundcolor": "#E5ECF6",
                        "gridcolor": "white",
                        "gridwidth": 2,
                        "linecolor": "white",
                        "showbackground": true,
                        "ticks": "",
                        "zerolinecolor": "white"
                      }
                    },
                    "shapedefaults": {
                      "line": {
                        "color": "#2a3f5f"
                      }
                    },
                    "ternary": {
                      "aaxis": {
                        "gridcolor": "white",
                        "linecolor": "white",
                        "ticks": ""
                      },
                      "baxis": {
                        "gridcolor": "white",
                        "linecolor": "white",
                        "ticks": ""
                      },
                      "bgcolor": "#E5ECF6",
                      "caxis": {
                        "gridcolor": "white",
                        "linecolor": "white",
                        "ticks": ""
                      }
                    },
                    "title": {
                      "x": 0.05
                    },
                    "xaxis": {
                      "automargin": true,
                      "gridcolor": "white",
                      "linecolor": "white",
                      "ticks": "",
                      "title": {
                        "standoff": 15
                      },
                      "zerolinecolor": "white",
                      "zerolinewidth": 2
                    },
                    "yaxis": {
                      "automargin": true,
                      "gridcolor": "white",
                      "linecolor": "white",
                      "ticks": "",
                      "title": {
                        "standoff": 15
                      },
                      "zerolinecolor": "white",
                      "zerolinewidth": 2
                    }
                  }
                },
                "title": {
                  "text": "Répartition de la cible (Churn)"
                },
                "xaxis": {
                  "anchor": "y",
                  "domain": [
                    0,
                    1
                  ],
                  "title": {
                    "text": "Churn"
                  }
                },
                "yaxis": {
                  "anchor": "x",
                  "domain": [
                    0,
                    1
                  ],
                  "title": {
                    "text": "Effectif"
                  }
                }
              }
            }
          },
          "metadata": {},
          "output_type": "display_data"
        },
        {
          "data": {
            "application/vnd.plotly.v1+json": {
              "config": {
                "plotlyServerURL": "https://plot.ly"
              },
              "data": [
                {
                  "bingroup": "x",
                  "hovertemplate": "Churn=0<br>tenure=%{x}<br>count=%{y}<extra></extra>",
                  "legendgroup": "0",
                  "marker": {
                    "color": "#636efa",
                    "opacity": 0.5,
                    "pattern": {
                      "shape": ""
                    }
                  },
                  "name": "0",
                  "nbinsx": 40,
                  "orientation": "v",
                  "showlegend": true,
                  "type": "histogram",
                  "x": {
                    "bdata": "ASItFgo+DRA6GUU0RxUMOjEeSEcCGwEBSC4KRhE/DTECNEUrGTw/QiJILzxIEgMvHzIKATRAPgM4LggeLQsqMQkjMC4dHgFCQUhHNAEBJkIFSCArSDQrQAMkKRs4BgcEIUgBRw1DKxdAOUg9QEdBAx4PCEY+Bg4WFhAKDQI1C0VIECsOICIPPQEhFAMNKCtFSDsUGDtIARsORw0sIUhAAT0dFzlIQkEIRwEMGB8eLzYySB0KEhBISClBDQQpKjMgCkM9Mh05Hy09MhNHORQVDgUGCgFEFhQjFwYMAUcjKBcERCY0HSYwARYrBTNHI0gBCUU0CxwRIwguRCQgR0I/KQFGF0AlEQcQQCoFKTovEhcBR0ghGDglKwE9ESlIMCosARsbAhMqQiEhFyALRBRIPCAuHTMwEEYoBQcdLAo3NAoSREgCKRokSCMBEDE2EiQ0CEhAFjw9GBweAgEGGEhGQEgsEQkYIwcLFEhID0g/Aj0BHEYiR0Y0RQsBFD04HhwFDEMdNzRIOiM4GEYCRAw/IUU8SAsBIkEyD0hINxc4ASYLATgDBzsHRw9HCzwvCxw9HwkjAgEDNAVIR0guPx4BEAQzQRACQi4gSCYzSEIsMg8IQjkHCj4oFBkXQkguSAooH0REMQ8yGCMRCkQtJQoBQTkDMUY1NRZBMAMtPQMoAQEzNDMBHy8WAUgvSEIjHQIEQRsdHRQ6DkguRyAaRAI9CRYFQQUZSBsgHkYqSC8CPQVISAMwPxtGBwJCA0gBSEELFg4pEQtIAztHBRs/SCIYSDxECCIGAh8UAUYnLkgSRyoiBRk3Rj0rLwU+DiImRiU8PiQsSA0PQQxISEg0AgVESEJIGkA+BQNIOUItAzM8IRpDMQEHGyUfID8eRzUyAjhDBBMIRw9IDEgXSBoVPAwQPxYgRB4QIUgMBEEPGA0YSDYEICMIFg8WRwQZIAcRCDgDRzE6OwsjFCgnSAwBGyI4OhYKDUgCBCUVNRcDRwkBR0AEFyccBS0lPC8yGz5HQkQNOBAOCCs0Ax0QKCQaSCIKDi8YFBYBOzo7AyAuNCAQMx1GRykBB0MFDxQ2Kgk/RUUoPEcgJyY0MEYUMhkMFxsvGgIaSD9HCw4NBgsSIB0DKQEHNC1GNT48F0NHGQUaAUZIIA4NLisnOTUSOkcjAyYjLw4UQg8qESUMPBIDCTgHRTY+PhEJQEgeMT0vFEY2PQ0DGR4VFy0YOAE3SC0vAgIMRTgEQD4/NQUxPjdHSCQZSCQBSDsBHkA/SD5DRhQFGEhCLUUcJCowCwcDCCA8CkcrF0gWAUUyDx8IQBw5EzNDC0hCCQkwCkgzPTYhGxcBLSdIOkY9Ai4wQEgMSB0hAT4EGA4DCCNCCEcrHUEjQDoSQz88RjAMRywtFysjCUEbKAg6NAMpFAEXBggSNB8dJCo8FiQJAQwXPggfLUUCLCdIDTNHOAEXQgELNAMzQCUNMS0SRDYXR0MOPykROAUDJQg/BwNIEzsjDkUHRUgEP0guHj88GQYWHycaDAInBwQ3SAoLDxcBLw9EFRU4BkEqRDAyBz8RBD4CMBtGLkVBSBEzM0giQzE1G0UCLjYUCx5EJgE/AzBCRAdIHSU7PBsROgE1I0QvQQkIDi0IQkgXBAZDBzhISBcjGwwoB0Y8J0g2P0cqLws3RQMeBUcdNEQuCEgRAwIzBgMRHh8tQD0BSAdCKBBDKThINjQyG0g+DCw2RBQyOiMCPzobRz9HRAFBSBxIAjwaRCo5NiwqSEcXHiMBFgckIkgkRxcRAQxIAUg8PQZIIEEtKgggFgEBNgQ4LUc7RRM3Ji8uQUc0BhowQAFIATMpSCtIL0gDGh0bGEMXDgQQLkQmEQQMSAMpKAdFBwVILEEDGEgYFkYZJRY7AQM1ARQzMw0BAT8DLgFHN0ZDDhQxSC4YBSEqFwhCGDU8FBdIFR85LQoOG0UjLREWQ0MJBTZGNR8NHCY0PhAMSEcYDwIFKSsBAUcHHBAHRQEDRUdFMC0zSCVHQjMeIkBBL0MnDjgOEEZIFxUkMjAySAoSCQIoRRILNyEuIgMeIS0oR0gWLjcBDB9DASkqFwE4Dww2BxAVHgMLPhIGLhVEARkYMzkPSBxGDTs+FQIBBBNDSDUFRzI4Ai5HHUVHODgcE0IRNBMkSCIIRTIKDEZAQkcUSEcmIRc6RgQtJDYXKQUbAUNIOCxCRSgeCw8LQEhIAQ88OAgxRjRIKCgBHiwHSAgDCAVINkgBRTAIR0MiAwlHOUgwEitIIwQxRws/QTEESBojORwZLzkQBUgwRB4DDgRHCD1IBTEIAwlDLkM3IT4xAQ4SSEBFAUdCAkcLLzwLHRUwAysFAUcICBRHHyYCDAkLBkcqLRwrPAcZGwobCwREARIaETseMgkDDh8HESACSBsHC0gERy85MggwRgEIPDEdQ0MGLzVFAwQ4PQIMHBhEJyoGJhIEGykySEYsIkhHQEgdFzRAGAIiNS9ISAdHKUNFRkgiQUZIIww+GTQIAjgMLwISCC0DJkhHQg1BD0gqRyM1MB4KDDk6JSwbCBk5DD5BRxVHB0gBSEBIHQ0fDkgZEkccAhE4PCEBPzdBP0YkFgUBOAIjQA8BRicdDj0NQjs+IUJIMz8bBCodHkcuRUgcSAcWSAg0REcCIiM9ATVIKRgIATYpE0g+OCAVPgIbGTE/BAELNDxAKz1CQyofByIDEwMuRQUBGhlAHg1ALgwNQxgGCg0HJisZG0hHGDkPBBw3NxQ+Kzw6BwIlQSdEPkgpBDUnPw8NAQE8KEIqQjEpKRcDBDQLAhoYDDxAQjwRKgEvCkZDAQRCDBgaOSpAExYMHwtESEM8OgElDSsGR0gGDBUGKyMgNCBIM0QIMUg2MkUBRCgfITdEDEcoQDVILigMCTMxOAQUGjMEARsMIhgOOwNBO0gDEwEYOUhDNEcaIzchSAElDAE+ARICEwkbGAsBJgk2HSw7EkMhBQJICUMIEUQZQyBDSAEwPQJHJUFDMhlAGRglFQEKMwoGLz00I0ctAjM8CREuRAQcJwtHAhE3OgkaMkgrOAFIJAUsRixFRBBEBBoFRhhIAUYkKQ4NBg8vCBEPGhcEHRkDRQ4TJx8YDkAyNBwVETozSBsDQC1HOiIPQgw6AwkDKEQyAUgoSAYFMEARKCkzKQJEGEYDAgMNBww1Pw8kBBg9EEEaEAUTCkgKCxEkEUI9FgEGRDQKSC8YQQQiDg1BFzcxPEUoQw0pBBgFBUgYKgREIUUmAzAPGTABASVCGj8SQBwBQgESDAw3B0QxKBBIAhdHDDZEGxVAORMfNC4LNTlHAURIAilIOgdBATgEOj4aPjpEPSoSOAQjQB9DRgIdLwwINkUaSEYcFTU1Rj0LAhkpRyIdKCQuOic0RkEBRh1DAR4wNyUfBEgBDwgjOEECQRIXRgQTEiYvNAkaLAMCGQI6OyxCRAkTBEYBCDUzCzwRASsQOSVIAhEQCkABGUdIMR1IMkdGRz1EPgcGIRwbBx4/NRURECMgHAE7SCgoPwMoCCIJHzIJGQEtNyYmIkYNPSkVN0VFL0ghSCU+RxcQCREYAUhICzwxHjUnCScIM0dHRiYcIDElCkMHMwkERxgWLCEBHgEQRysyKSgDJSAgOx4bCURFGkULAQo3LEULHTkcKhcSPkM+AhcZSAIIIxgCSCkaBDAMPDcBASoBA0gPCwVINyg5NCsvAzcdDEIbOgkGCQgMKypCAQoSAzIBAhFFSDI1Oi5IBkgENAJBMwwYQBoPQBsICgIzLgEuMjU9BS82ExpGEQETGjJECTMJFkcaRwQMEgNIDSoRB0Q4JkgwNCNDATUiEzwLPEgnOwJHGEMlCxIyQxkJCkYJBAITBwEJBTgSRkgRHT87AwhERDRIIEgBKi0rJT8DQghHSBBCMwgORkYYRSonLUgmSEg3Mz8BFwI0JAEcB0gKKgdIPzgFSERDCDQSOzwHOy4FO0YsQDouOkgLIjZINg4BOEQORDcQCTVGDgodHkgKARQBHQEDFEAGMgYHSAhDSCFGFjskMzUUPygjGjUiEysGOCIKODckLwwYI0MVDUcdBzlBG0gBCyc7GgJIQUgGIDI9SAEMPRIVRAw+AQE+JEU/FwpHLUYWNEFICgcFGEgVRSw9SEgOBzA3AS0DRwhFSEchEDgBOTgBKC4/REU4Cj8YExZGMSo5SC5II0gcLQEGMBlAMjQEIC0JNkAMQy0KHRhCMy0xHSgZFkghF0UDOEFHDgIoAQcPRzYfCxJIRwUmBTRERSoyIQdAOwYDDw0XHx0xOD8/GCQVDQEZR0ItFkNEBD8VAREeFgkBE0hGQgcuIBglCEhHEDlCFUIRCBsiHiEOEDFGIBIlBBAREzwzHCsqAT9EPC1GBEQWEh0fMDIHRBo5AxMDOypDAUI9BEA2ATYSA0g8Cz0nJUhICBYmEUYcD0g5Lh4KIA0sCUNHAREBICkBPhFIOAlIFBM1BgkIR0dEIhoHFDxISAQQPgofRzpGR0VIGiEKOQonC0QSEjQ4LUMDQT8LATcZSEEHSBUCBEgGNEUIPzwMDRZIAigsRxoBAw0BBAJIJRcqIBYqCEFGFkMZFAIzLg0aE0gSGC5IRgIfEDQNIztIMQIVNgEGMTg4BiAyOkFAQiYUQDwySDwuRR8TRwwsOEgLD0g4QCIjFgkXRCEfOEJIIjolRwFHIwZFNQUCPhMJNQVHAUgEOx8DMQI3SCQKSBwmPTRDIjYBLjcBQDo4SEgWJww2EiApQ0EZQysYRSUUByk2RTUSQBQ5Pw0wOUcHECIQMDpIBx4fLjIcQilIByYsLzUEFDksGA8YITpIRzNIDkgWAg8zRkcnPTRAPh4/AQ8bBEgtLSQBEEcKFAQdAh0NOxIRLxNEAgcSRw1IQhg4FipIDEcaBwYzSC8+EAZFQBkGQj0rDBdHIilIDikXR0gGF0gHCQwBMBQKFBQTFiMBJzY4EhBENUgJHhI3ISweRwEXFjEqB0MPQzUVKBYnAjkIBzFBN0cjEUgcEjQvF0IIRzIuQioFHRsZOS8NRwECN0cyAQVCMQNCCxxBPgICNykeERBICQEXCBMHPTkPAQw2BBQaNURIDEQyKR4BHRc8SEhCSDNGCTsDJiUlDkhIEQoBHUEIPS1IDAcJOgIoCSkaIURBNxMtRgxIDEcjRh8eITY7N0VCJQlFCg1FQi44RiFIE0cBPUdELiE1Mjk2PAorDSsBRT0rOEYxIEglRRo6GAUeNywvQAEUJR4mNEdCSBlFNRoVATAaPBIEQUY+QkEiEDJHEgQ6ODgECgQzBj8wIwIyIR8JNi4iRz8zQD0PEjkOEkhGJkRBHjMfSCU3IS4BEz0aLT4DKUNHJTwGCwoiPkAZGgo1IUcdGBQBSDQJAUUBNiEtCwYVQSs8ESMMARxGEkYJQwESRwE3OwctNjNILAJCRB8VFTdHFkMOFQRGFRQWP0YFSA09ATgEI0gxLCU9RilGMyowMBsuGQ0fFwJBNyMGEQoPDTotSEQmAgsUSCg+FgsHAzoGFkAGJxRALhwhJwFGQQESGD8sBCUiIwQnKz0xBEADASgiAS0rKQVIBAlIIUgPHQ9IEwECCwxGFzECRRggGzoSL0YkQwoTR0gwARJDRUgmKD0gFTsvRQIWDzUcFhAwHgM5F0EsRyUMRSMFOkhIATUbEi5IBBkoPw5IJy8TESIqRxM5SAY9MBADQUY8RSMWQiJIHx4TQR4GAjUHPQ0jAgM+SD8jPg83Cz1HIxEvAwMsASwSQQMhIg4NFy8RO0UKDCdHRyFDCTRGAQE0BgcaGUVIBDtDGhtIBj4UBjM9PkgNJiISOCQ5RkQBJQQBFEgLIT4BEBYxJB8FQkAKHTkuNREmDxY5CwEMJAJIPgYwIzQBR0M8FycPGCUyNgMFISkiDRQzKQ0jBAwHNT8FJQwmCQ0vPRApKwY6EwsnCBo1RjsHOz1IDUAKQT43GQFAJD0aREhHOQQBSBVHRUAQBAESAhMoQhUISDBFSA4GCBFBOTgONDpDAgZHLkMDAzIXQydFASA8SBoCAiQHPBMtBC8BOyMgNkI9SCwpMggSSCoSDURFGTsFRQ00PR0ZDxMsOj5GChpCM0hBRkgBAzohNkhISDY7Njw8A0UBMjg8RQM8DT4tGSwCFiMdGzY5Pg9GFRcGBBcaCAI7JxUwH0AuNENDR0cgAkc8NwYwPww2HigJPhxGLhcvREMOOTcBFy8mAg8aIwMqCj1ECkg3BwIJG0BGQxgELEhCQQEmFwpIIzpGJjwaCCQ2N0g2SDQ8Jw8rPwJIKDpDH0UgFTRINCkpQxARIzo0RhMjIBFDCQQ6PAEbQg8pOzIRBjMxOzI7EgoOIwgSPAYTNUg8DQUNJUA9GhgRGjQBFUMsRjguPwsPSAY/EisPN0Y/GRIcNQEaIhM+GEQfPz0SBiE4FwkFPUYPCAgEIkQtCRYCRgpIMTZHFjIrLUAXRBoOR0A5SCgOAgUdA0cJMBoJLkA7B0gQGRgKRTkyHBkDPQIzRxQGBh0kHD8wMUhILwEkKxsmIzsbAgckKQ0TPEUrCy1IDEMlJykZCEcFHig2SBwSOxYBSDIwMRxEDQtIRjFDLiUNSEQPGBgbR0M/AQQ0CkQ0Ris0DDgqFhszAUdFDjlIMAQfATk+A0gdDQsVEyMZQ0grNxsNRhMUKwVGKAYnLTlISAM7BBsEPAgIIzUSD0MGAQUNHQESAh5CJiwCKjo6RzAIQzE0P0QfQD4VSCBHIiMDAzUEMDY+FjMeOCNAHhkBRjkJRUgsSDYbNgM1DwUwGToKR0EcQyNIPUQDMEQvIAUxDwxDCQ0mKgkxPTI1Mxg+GEYBCEgXHyUjFxQkRys5Gw1DQBomF0g+KCkiATMnDEg/LBINRAYCNyYTDEgYSAtC",
                    "dtype": "i1"
                  },
                  "xaxis": "x",
                  "yaxis": "y"
                },
                {
                  "bingroup": "x",
                  "hovertemplate": "Churn=1<br>tenure=%{x}<br>count=%{y}<extra></extra>",
                  "legendgroup": "1",
                  "marker": {
                    "color": "#EF553B",
                    "opacity": 0.5,
                    "pattern": {
                      "shape": ""
                    }
                  },
                  "name": "1",
                  "nbinsx": 40,
                  "orientation": "v",
                  "showlegend": true,
                  "type": "histogram",
                  "x": {
                    "bdata": "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",
                    "dtype": "i1"
                  },
                  "xaxis": "x",
                  "yaxis": "y"
                }
              ],
              "layout": {
                "barmode": "overlay",
                "legend": {
                  "title": {
                    "text": "Churn"
                  },
                  "tracegroupgap": 0
                },
                "template": {
                  "data": {
                    "bar": [
                      {
                        "error_x": {
                          "color": "#2a3f5f"
                        },
                        "error_y": {
                          "color": "#2a3f5f"
                        },
                        "marker": {
                          "line": {
                            "color": "#E5ECF6",
                            "width": 0.5
                          },
                          "pattern": {
                            "fillmode": "overlay",
                            "size": 10,
                            "solidity": 0.2
                          }
                        },
                        "type": "bar"
                      }
                    ],
                    "barpolar": [
                      {
                        "marker": {
                          "line": {
                            "color": "#E5ECF6",
                            "width": 0.5
                          },
                          "pattern": {
                            "fillmode": "overlay",
                            "size": 10,
                            "solidity": 0.2
                          }
                        },
                        "type": "barpolar"
                      }
                    ],
                    "carpet": [
                      {
                        "aaxis": {
                          "endlinecolor": "#2a3f5f",
                          "gridcolor": "white",
                          "linecolor": "white",
                          "minorgridcolor": "white",
                          "startlinecolor": "#2a3f5f"
                        },
                        "baxis": {
                          "endlinecolor": "#2a3f5f",
                          "gridcolor": "white",
                          "linecolor": "white",
                          "minorgridcolor": "white",
                          "startlinecolor": "#2a3f5f"
                        },
                        "type": "carpet"
                      }
                    ],
                    "choropleth": [
                      {
                        "colorbar": {
                          "outlinewidth": 0,
                          "ticks": ""
                        },
                        "type": "choropleth"
                      }
                    ],
                    "contour": [
                      {
                        "colorbar": {
                          "outlinewidth": 0,
                          "ticks": ""
                        },
                        "colorscale": [
                          [
                            0,
                            "#0d0887"
                          ],
                          [
                            0.1111111111111111,
                            "#46039f"
                          ],
                          [
                            0.2222222222222222,
                            "#7201a8"
                          ],
                          [
                            0.3333333333333333,
                            "#9c179e"
                          ],
                          [
                            0.4444444444444444,
                            "#bd3786"
                          ],
                          [
                            0.5555555555555556,
                            "#d8576b"
                          ],
                          [
                            0.6666666666666666,
                            "#ed7953"
                          ],
                          [
                            0.7777777777777778,
                            "#fb9f3a"
                          ],
                          [
                            0.8888888888888888,
                            "#fdca26"
                          ],
                          [
                            1,
                            "#f0f921"
                          ]
                        ],
                        "type": "contour"
                      }
                    ],
                    "contourcarpet": [
                      {
                        "colorbar": {
                          "outlinewidth": 0,
                          "ticks": ""
                        },
                        "type": "contourcarpet"
                      }
                    ],
                    "heatmap": [
                      {
                        "colorbar": {
                          "outlinewidth": 0,
                          "ticks": ""
                        },
                        "colorscale": [
                          [
                            0,
                            "#0d0887"
                          ],
                          [
                            0.1111111111111111,
                            "#46039f"
                          ],
                          [
                            0.2222222222222222,
                            "#7201a8"
                          ],
                          [
                            0.3333333333333333,
                            "#9c179e"
                          ],
                          [
                            0.4444444444444444,
                            "#bd3786"
                          ],
                          [
                            0.5555555555555556,
                            "#d8576b"
                          ],
                          [
                            0.6666666666666666,
                            "#ed7953"
                          ],
                          [
                            0.7777777777777778,
                            "#fb9f3a"
                          ],
                          [
                            0.8888888888888888,
                            "#fdca26"
                          ],
                          [
                            1,
                            "#f0f921"
                          ]
                        ],
                        "type": "heatmap"
                      }
                    ],
                    "histogram": [
                      {
                        "marker": {
                          "pattern": {
                            "fillmode": "overlay",
                            "size": 10,
                            "solidity": 0.2
                          }
                        },
                        "type": "histogram"
                      }
                    ],
                    "histogram2d": [
                      {
                        "colorbar": {
                          "outlinewidth": 0,
                          "ticks": ""
                        },
                        "colorscale": [
                          [
                            0,
                            "#0d0887"
                          ],
                          [
                            0.1111111111111111,
                            "#46039f"
                          ],
                          [
                            0.2222222222222222,
                            "#7201a8"
                          ],
                          [
                            0.3333333333333333,
                            "#9c179e"
                          ],
                          [
                            0.4444444444444444,
                            "#bd3786"
                          ],
                          [
                            0.5555555555555556,
                            "#d8576b"
                          ],
                          [
                            0.6666666666666666,
                            "#ed7953"
                          ],
                          [
                            0.7777777777777778,
                            "#fb9f3a"
                          ],
                          [
                            0.8888888888888888,
                            "#fdca26"
                          ],
                          [
                            1,
                            "#f0f921"
                          ]
                        ],
                        "type": "histogram2d"
                      }
                    ],
                    "histogram2dcontour": [
                      {
                        "colorbar": {
                          "outlinewidth": 0,
                          "ticks": ""
                        },
                        "colorscale": [
                          [
                            0,
                            "#0d0887"
                          ],
                          [
                            0.1111111111111111,
                            "#46039f"
                          ],
                          [
                            0.2222222222222222,
                            "#7201a8"
                          ],
                          [
                            0.3333333333333333,
                            "#9c179e"
                          ],
                          [
                            0.4444444444444444,
                            "#bd3786"
                          ],
                          [
                            0.5555555555555556,
                            "#d8576b"
                          ],
                          [
                            0.6666666666666666,
                            "#ed7953"
                          ],
                          [
                            0.7777777777777778,
                            "#fb9f3a"
                          ],
                          [
                            0.8888888888888888,
                            "#fdca26"
                          ],
                          [
                            1,
                            "#f0f921"
                          ]
                        ],
                        "type": "histogram2dcontour"
                      }
                    ],
                    "mesh3d": [
                      {
                        "colorbar": {
                          "outlinewidth": 0,
                          "ticks": ""
                        },
                        "type": "mesh3d"
                      }
                    ],
                    "parcoords": [
                      {
                        "line": {
                          "colorbar": {
                            "outlinewidth": 0,
                            "ticks": ""
                          }
                        },
                        "type": "parcoords"
                      }
                    ],
                    "pie": [
                      {
                        "automargin": true,
                        "type": "pie"
                      }
                    ],
                    "scatter": [
                      {
                        "fillpattern": {
                          "fillmode": "overlay",
                          "size": 10,
                          "solidity": 0.2
                        },
                        "type": "scatter"
                      }
                    ],
                    "scatter3d": [
                      {
                        "line": {
                          "colorbar": {
                            "outlinewidth": 0,
                            "ticks": ""
                          }
                        },
                        "marker": {
                          "colorbar": {
                            "outlinewidth": 0,
                            "ticks": ""
                          }
                        },
                        "type": "scatter3d"
                      }
                    ],
                    "scattercarpet": [
                      {
                        "marker": {
                          "colorbar": {
                            "outlinewidth": 0,
                            "ticks": ""
                          }
                        },
                        "type": "scattercarpet"
                      }
                    ],
                    "scattergeo": [
                      {
                        "marker": {
                          "colorbar": {
                            "outlinewidth": 0,
                            "ticks": ""
                          }
                        },
                        "type": "scattergeo"
                      }
                    ],
                    "scattergl": [
                      {
                        "marker": {
                          "colorbar": {
                            "outlinewidth": 0,
                            "ticks": ""
                          }
                        },
                        "type": "scattergl"
                      }
                    ],
                    "scattermap": [
                      {
                        "marker": {
                          "colorbar": {
                            "outlinewidth": 0,
                            "ticks": ""
                          }
                        },
                        "type": "scattermap"
                      }
                    ],
                    "scattermapbox": [
                      {
                        "marker": {
                          "colorbar": {
                            "outlinewidth": 0,
                            "ticks": ""
                          }
                        },
                        "type": "scattermapbox"
                      }
                    ],
                    "scatterpolar": [
                      {
                        "marker": {
                          "colorbar": {
                            "outlinewidth": 0,
                            "ticks": ""
                          }
                        },
                        "type": "scatterpolar"
                      }
                    ],
                    "scatterpolargl": [
                      {
                        "marker": {
                          "colorbar": {
                            "outlinewidth": 0,
                            "ticks": ""
                          }
                        },
                        "type": "scatterpolargl"
                      }
                    ],
                    "scatterternary": [
                      {
                        "marker": {
                          "colorbar": {
                            "outlinewidth": 0,
                            "ticks": ""
                          }
                        },
                        "type": "scatterternary"
                      }
                    ],
                    "surface": [
                      {
                        "colorbar": {
                          "outlinewidth": 0,
                          "ticks": ""
                        },
                        "colorscale": [
                          [
                            0,
                            "#0d0887"
                          ],
                          [
                            0.1111111111111111,
                            "#46039f"
                          ],
                          [
                            0.2222222222222222,
                            "#7201a8"
                          ],
                          [
                            0.3333333333333333,
                            "#9c179e"
                          ],
                          [
                            0.4444444444444444,
                            "#bd3786"
                          ],
                          [
                            0.5555555555555556,
                            "#d8576b"
                          ],
                          [
                            0.6666666666666666,
                            "#ed7953"
                          ],
                          [
                            0.7777777777777778,
                            "#fb9f3a"
                          ],
                          [
                            0.8888888888888888,
                            "#fdca26"
                          ],
                          [
                            1,
                            "#f0f921"
                          ]
                        ],
                        "type": "surface"
                      }
                    ],
                    "table": [
                      {
                        "cells": {
                          "fill": {
                            "color": "#EBF0F8"
                          },
                          "line": {
                            "color": "white"
                          }
                        },
                        "header": {
                          "fill": {
                            "color": "#C8D4E3"
                          },
                          "line": {
                            "color": "white"
                          }
                        },
                        "type": "table"
                      }
                    ]
                  },
                  "layout": {
                    "annotationdefaults": {
                      "arrowcolor": "#2a3f5f",
                      "arrowhead": 0,
                      "arrowwidth": 1
                    },
                    "autotypenumbers": "strict",
                    "coloraxis": {
                      "colorbar": {
                        "outlinewidth": 0,
                        "ticks": ""
                      }
                    },
                    "colorscale": {
                      "diverging": [
                        [
                          0,
                          "#8e0152"
                        ],
                        [
                          0.1,
                          "#c51b7d"
                        ],
                        [
                          0.2,
                          "#de77ae"
                        ],
                        [
                          0.3,
                          "#f1b6da"
                        ],
                        [
                          0.4,
                          "#fde0ef"
                        ],
                        [
                          0.5,
                          "#f7f7f7"
                        ],
                        [
                          0.6,
                          "#e6f5d0"
                        ],
                        [
                          0.7,
                          "#b8e186"
                        ],
                        [
                          0.8,
                          "#7fbc41"
                        ],
                        [
                          0.9,
                          "#4d9221"
                        ],
                        [
                          1,
                          "#276419"
                        ]
                      ],
                      "sequential": [
                        [
                          0,
                          "#0d0887"
                        ],
                        [
                          0.1111111111111111,
                          "#46039f"
                        ],
                        [
                          0.2222222222222222,
                          "#7201a8"
                        ],
                        [
                          0.3333333333333333,
                          "#9c179e"
                        ],
                        [
                          0.4444444444444444,
                          "#bd3786"
                        ],
                        [
                          0.5555555555555556,
                          "#d8576b"
                        ],
                        [
                          0.6666666666666666,
                          "#ed7953"
                        ],
                        [
                          0.7777777777777778,
                          "#fb9f3a"
                        ],
                        [
                          0.8888888888888888,
                          "#fdca26"
                        ],
                        [
                          1,
                          "#f0f921"
                        ]
                      ],
                      "sequentialminus": [
                        [
                          0,
                          "#0d0887"
                        ],
                        [
                          0.1111111111111111,
                          "#46039f"
                        ],
                        [
                          0.2222222222222222,
                          "#7201a8"
                        ],
                        [
                          0.3333333333333333,
                          "#9c179e"
                        ],
                        [
                          0.4444444444444444,
                          "#bd3786"
                        ],
                        [
                          0.5555555555555556,
                          "#d8576b"
                        ],
                        [
                          0.6666666666666666,
                          "#ed7953"
                        ],
                        [
                          0.7777777777777778,
                          "#fb9f3a"
                        ],
                        [
                          0.8888888888888888,
                          "#fdca26"
                        ],
                        [
                          1,
                          "#f0f921"
                        ]
                      ]
                    },
                    "colorway": [
                      "#636efa",
                      "#EF553B",
                      "#00cc96",
                      "#ab63fa",
                      "#FFA15A",
                      "#19d3f3",
                      "#FF6692",
                      "#B6E880",
                      "#FF97FF",
                      "#FECB52"
                    ],
                    "font": {
                      "color": "#2a3f5f"
                    },
                    "geo": {
                      "bgcolor": "white",
                      "lakecolor": "white",
                      "landcolor": "#E5ECF6",
                      "showlakes": true,
                      "showland": true,
                      "subunitcolor": "white"
                    },
                    "hoverlabel": {
                      "align": "left"
                    },
                    "hovermode": "closest",
                    "mapbox": {
                      "style": "light"
                    },
                    "paper_bgcolor": "white",
                    "plot_bgcolor": "#E5ECF6",
                    "polar": {
                      "angularaxis": {
                        "gridcolor": "white",
                        "linecolor": "white",
                        "ticks": ""
                      },
                      "bgcolor": "#E5ECF6",
                      "radialaxis": {
                        "gridcolor": "white",
                        "linecolor": "white",
                        "ticks": ""
                      }
                    },
                    "scene": {
                      "xaxis": {
                        "backgroundcolor": "#E5ECF6",
                        "gridcolor": "white",
                        "gridwidth": 2,
                        "linecolor": "white",
                        "showbackground": true,
                        "ticks": "",
                        "zerolinecolor": "white"
                      },
                      "yaxis": {
                        "backgroundcolor": "#E5ECF6",
                        "gridcolor": "white",
                        "gridwidth": 2,
                        "linecolor": "white",
                        "showbackground": true,
                        "ticks": "",
                        "zerolinecolor": "white"
                      },
                      "zaxis": {
                        "backgroundcolor": "#E5ECF6",
                        "gridcolor": "white",
                        "gridwidth": 2,
                        "linecolor": "white",
                        "showbackground": true,
                        "ticks": "",
                        "zerolinecolor": "white"
                      }
                    },
                    "shapedefaults": {
                      "line": {
                        "color": "#2a3f5f"
                      }
                    },
                    "ternary": {
                      "aaxis": {
                        "gridcolor": "white",
                        "linecolor": "white",
                        "ticks": ""
                      },
                      "baxis": {
                        "gridcolor": "white",
                        "linecolor": "white",
                        "ticks": ""
                      },
                      "bgcolor": "#E5ECF6",
                      "caxis": {
                        "gridcolor": "white",
                        "linecolor": "white",
                        "ticks": ""
                      }
                    },
                    "title": {
                      "x": 0.05
                    },
                    "xaxis": {
                      "automargin": true,
                      "gridcolor": "white",
                      "linecolor": "white",
                      "ticks": "",
                      "title": {
                        "standoff": 15
                      },
                      "zerolinecolor": "white",
                      "zerolinewidth": 2
                    },
                    "yaxis": {
                      "automargin": true,
                      "gridcolor": "white",
                      "linecolor": "white",
                      "ticks": "",
                      "title": {
                        "standoff": 15
                      },
                      "zerolinecolor": "white",
                      "zerolinewidth": 2
                    }
                  }
                },
                "title": {
                  "text": "Distribution de tenure selon le churn"
                },
                "xaxis": {
                  "anchor": "y",
                  "domain": [
                    0,
                    1
                  ],
                  "title": {
                    "text": "Tenure (mois)"
                  }
                },
                "yaxis": {
                  "anchor": "x",
                  "domain": [
                    0,
                    1
                  ],
                  "title": {
                    "text": "Effectif"
                  }
                }
              }
            }
          },
          "metadata": {},
          "output_type": "display_data"
        },
        {
          "data": {
            "application/vnd.plotly.v1+json": {
              "config": {
                "plotlyServerURL": "https://plot.ly"
              },
              "data": [
                {
                  "bingroup": "x",
                  "hovertemplate": "Churn=0<br>MonthlyCharges=%{x}<br>count=%{y}<extra></extra>",
                  "legendgroup": "0",
                  "marker": {
                    "color": "#636efa",
                    "opacity": 0.5,
                    "pattern": {
                      "shape": ""
                    }
                  },
                  "name": "0",
                  "nbinsx": 40,
                  "orientation": "v",
                  "showlegend": true,
                  "type": "histogram",
                  "x": {
                    "bdata": "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",
                    "dtype": "f8"
                  },
                  "xaxis": "x",
                  "yaxis": "y"
                },
                {
                  "bingroup": "x",
                  "hovertemplate": "Churn=1<br>MonthlyCharges=%{x}<br>count=%{y}<extra></extra>",
                  "legendgroup": "1",
                  "marker": {
                    "color": "#EF553B",
                    "opacity": 0.5,
                    "pattern": {
                      "shape": ""
                    }
                  },
                  "name": "1",
                  "nbinsx": 40,
                  "orientation": "v",
                  "showlegend": true,
                  "type": "histogram",
                  "x": {
                    "bdata": "zczMzMzsSkDNzMzMzKxRQJqZmZmZ6VhAMzMzMzMzWkDNzMzMzOxZQJqZmZmZmUtAMzMzMzPTQ0BmZmZmZiY0QGZmZmZm1lhAMzMzMzMzPkDNzMzMzCxQQM3MzMzMbFFAZmZmZmaWWkBmZmZmZnZYQJqZmZmZKVRAZmZmZmbGWECamZmZmSlUQM3MzMzM3FdAmpmZmZmZV0BmZmZmZtZTQJqZmZmZyVJAzczMzMy8U0DNzMzMzAw1QAAAAAAAoFhAAAAAAACAW0AAAAAAADBYQAAAAAAAIFNAAAAAAAAQWUCamZmZmZlSQDMzMzMzg1NAzczMzMxMTUCamZmZmblBQM3MzMzMLEZAzczMzMycUUCamZmZmclRQDMzMzMz00ZAAAAAAADAV0CamZmZmZlUQJqZmZmZuVFAZmZmZmamRkCamZmZmRlaQGZmZmZmtldAzczMzMycUkDNzMzMzBxTQDMzMzMz8z1AAAAAAAAgVUAAAAAAANBTQM3MzMzMzDhAAAAAAADAVkCamZmZmflTQGZmZmZmplpAAAAAAAAAR0CamZmZmYlRQGZmZmZmBklAmpmZmZmZS0BmZmZmZiZVQDMzMzMzM0tAAAAAAADAV0CamZmZmZlSQGZmZmZmRkhAmpmZmZmZUUCamZmZmRlEQM3MzMzMTEZAMzMzMzOTRECamZmZmblaQJqZmZmZWTNAzczMzMycV0DNzMzMzMw4QGZmZmZmplFAmpmZmZlZVUAzMzMzM0NaQJqZmZmZyVdAAAAAAACAUUAAAAAAAKBSQM3MzMzMbEZAZmZmZmYGU0BmZmZmZmZSQM3MzMzM3FdAmpmZmZm5UkBmZmZmZiZUQDMzMzMzE1RAmpmZmZlJV0DNzMzMzJxUQGZmZmZmllFAZmZmZmZ2UkBmZmZmZiZUQDMzMzMz81JAZmZmZmYmWkCamZmZmdlZQJqZmZmZmVZAMzMzMzMzVUAzMzMzM/NEQAAAAAAAEFRAAAAAAADAPkAAAAAAACBYQJqZmZmZaVVAzczMzMw8WkAzMzMzM1NJQGZmZmZmtlZAMzMzMzPzM0DNzMzMzFxVQM3MzMzMfFJAzczMzMzcWEBmZmZmZuYzQJqZmZmZmTNAZmZmZmZWVEAzMzMzM9NUQDMzMzMz01JAZmZmZmZmM0AzMzMzM7NGQJqZmZmZeVpAMzMzMzNjUUAzMzMzM0NUQJqZmZmZSVlAMzMzMzPzWECamZmZmflLQAAAAAAAgEtAzczMzMysUkAAAAAAABBUQGZmZmZmBlhAAAAAAABAUUBmZmZmZqZGQDMzMzMz41RAZmZmZmaWUkCamZmZmZlSQAAAAAAA4EVAMzMzMzNzPEDNzMzMzOxYQGZmZmZmhldAzczMzMyMV0AAAAAAACBUQGZmZmZmllJAMzMzMzMzWkDNzMzMzMxSQGZmZmZm5lJAMzMzMzMDWUAAAAAAAEBVQDMzMzMzg1VAZmZmZmbGRkAzMzMzM5NVQGZmZmZmFlRAAAAAAAAQWUAzMzMzMxNZQAAAAAAAADNAMzMzMzPTUkDNzMzMzExWQM3MzMzMbFVAMzMzMzPTTkAAAAAAAFBaQDMzMzMz8z1AAAAAAABAUEAAAAAAAAA0QDMzMzMzg1ZAAAAAAACwW0AAAAAAAGBaQDMzMzMzI1pAAAAAAABQVUAzMzMzMxNMQDMzMzMzY1ZAMzMzMzOjV0CamZmZmdlGQAAAAAAAYFZAMzMzMzNjUUBmZmZmZqZSQGZmZmZmpjNAmpmZmZnZM0AAAAAAAEA4QJqZmZmZaVFAMzMzMzPTRkAzMzMzM8NSQDMzMzMzk0hAmpmZmZlZQUAAAAAAAABUQAAAAAAAoEhAZmZmZmbGUkAzMzMzMxNJQGZmZmZm9lNAzczMzMyMM0DNzMzMzHxVQM3MzMzMrEZAAAAAAACgV0DNzMzMzOxWQAAAAAAA0FVAMzMzMzOjWEAzMzMzM6NYQJqZmZmZeVVAAAAAAABQVkAzMzMzM5NRQGZmZmZmVldAZmZmZmbmM0CamZmZmTlWQDMzMzMz81dAAAAAAACAVEDNzMzMzKxGQJqZmZmZGUpAAAAAAACAW0AAAAAAADBYQAAAAAAAoFhAZmZmZmZWVUAzMzMzM1NZQDMzMzMzY1FAAAAAAADQWUAAAAAAAABaQM3MzMzMjFVAzczMzMzMW0DNzMzMzFxWQGZmZmZm5ldAzczMzMy8VkAzMzMzMyNbQGZmZmZmtlNAMzMzMzMzRkAAAAAAAABZQM3MzMzMzDNAmpmZmZl5VkCamZmZmQlZQGZmZmZmZklAmpmZmZlpUkBmZmZmZsZXQJqZmZmZqVdAZmZmZmYmVEAzMzMzM2NVQGZmZmZmZklAZmZmZmZGWkBmZmZmZoZbQJqZmZmZ+VRAMzMzMzMjWUBmZmZmZvZZQJqZmZmZmThAmpmZmZm5WEAzMzMzM5NYQGZmZmZmdldAAAAAAAAgWUBmZmZmZjZSQDMzMzMzY1JAmpmZmZnZU0CamZmZmUlUQGZmZmZmJlVAMzMzMzPDU0CamZmZmZlSQDMzMzMzw1hAmpmZmZl5RkCamZmZmVlGQJqZmZmZ2UZAMzMzMzMTWUAAAAAAAEAzQAAAAAAAAFhAMzMzMzOjVkCamZmZmVk+QDMzMzMzA1tAmpmZmZl5UUAAAAAAAPBZQGZmZmZmplVAZmZmZmYmVEAzMzMzM1NVQAAAAAAAgFFAMzMzMzOTV0BmZmZmZtZXQAAAAAAA4FJAZmZmZmaGVkDNzMzMzDxRQDMzMzMz41hAmpmZmZm5TEAzMzMzM9NKQGZmZmZmJllAAAAAAADwVEAzMzMzMxNWQGZmZmZmBldAzczMzMzcU0DNzMzMzJxWQAAAAAAAcFFAZmZmZmamM0AzMzMzM9NFQAAAAAAAwENAZmZmZmZGWEAAAAAAAABUQM3MzMzMLFVAMzMzMzNjVkBmZmZmZqZWQDMzMzMzg1ZAMzMzMzPDWEAAAAAAAHBRQGZmZmZmhkhAMzMzMzODWEAAAAAAAKBcQM3MzMzMPFRAMzMzMzOTUkDNzMzMzGxWQM3MzMzMHFlAmpmZmZmZVkAzMzMzMxNMQJqZmZmZmVdAzczMzMy8U0DNzMzMzGxGQJqZmZmZaVpAmpmZmZmpUkDNzMzMzCxQQDMzMzMzA1pAZmZmZmbGQUCamZmZmclXQJqZmZmZKVhAmpmZmZkZVECamZmZmVk/QAAAAAAAcFZAmpmZmZmZV0CamZmZmdkzQJqZmZmZeVtAZmZmZmZWWUBmZmZmZgZOQDMzMzMzE05AzczMzMycVkAAAAAAAJBXQJqZmZmZuVJAAAAAAAAQVEAAAAAAAEBRQGZmZmZmllBAAAAAAACAVUAzMzMzMxNUQDMzMzMzo1ZAmpmZmZn5UkDNzMzMzOxGQJqZmZmZ+UhAMzMzMzOTU0DNzMzMzDxTQJqZmZmZCVhAZmZmZmamRkBmZmZmZmYzQJqZmZmZiVZAZmZmZmaGRkAzMzMzM/NSQDMzMzMz01NAZmZmZmbmPkAAAAAAANBXQGZmZmZmZlZAmpmZmZmJW0AAAAAAAGBWQAAAAAAAwFJAAAAAAABgRkBmZmZmZgZGQGZmZmZmZlVAMzMzMzPjXEBmZmZmZqZVQM3MzMzMTFVAmpmZmZlpWEAzMzMzM2NbQDMzMzMzY1ZAMzMzMzNzM0CamZmZmVk0QAAAAAAAUFFAAAAAAADgWEAzMzMzMzM5QAAAAAAAgEZAZmZmZmYmNEAAAAAAAEBaQJqZmZmZWUtAAAAAAADQVUDNzMzMzPxTQGZmZmZmFlZAAAAAAACwV0AzMzMzM8NXQM3MzMzMnFNAzczMzMyMUUBmZmZmZoZEQGZmZmZmZlVAzczMzMzMU0AAAAAAAIBRQJqZmZmZ+UhAAAAAAABQUUAAAAAAAJBXQAAAAAAAQFJAMzMzMzMDWUAzMzMzM/NYQAAAAAAAgEFAAAAAAAAAU0BmZmZmZnZXQDMzMzMzE1VAmpmZmZkZVUBmZmZmZkZZQJqZmZmZOUlAzczMzMz8WECamZmZmdlWQDMzMzMz41JAMzMzMzMzVEAAAAAAAABZQM3MzMzMjDRAMzMzMzNTVUCamZmZmZlRQDMzMzMzs1hAmpmZmZmZUkAAAAAAALBYQAAAAAAAgFpAzczMzMwsWkDNzMzMzCxYQGZmZmZmhktAzczMzMwMVkAAAAAAAMAzQJqZmZmZ6VJAzczMzMysUkCamZmZmSlTQM3MzMzMzDlAzczMzMxMRUBmZmZmZjZRQAAAAAAAgFZAZmZmZmbWUkBmZmZmZjZZQM3MzMzMfFFAAAAAAADgWkDNzMzMzOxGQGZmZmZmhlpAzczMzMzsVkBmZmZmZuZXQM3MzMzMvFJAZmZmZmbWV0AAAAAAAIBGQAAAAAAA4FhAZmZmZmamWEAAAAAAAMBNQM3MzMzMHFRAzczMzMx8U0DNzMzMzKxSQDMzMzMzM1ZAAAAAAACQVkCamZmZmSlQQDMzMzMzQ1ZAmpmZmZnZVUAAAAAAALBXQM3MzMzMnFVAAAAAAACQWEAAAAAAAPBSQGZmZmZmVlVAZmZmZmaGWkBmZmZmZoZGQDMzMzMzc1tAmpmZmZkpVUAAAAAAAOBTQDMzMzMzc1VAZmZmZmbGU0BmZmZmZiZGQM3MzMzMfFpAAAAAAABwUUCamZmZmalXQDMzMzMzA1hAMzMzMzMTSUBmZmZmZmZcQJqZmZmZuVNAZmZmZmYGTkCamZmZmVlBQDMzMzMzU1VAzczMzMycWUCamZmZmRlaQAAAAAAA8FhAmpmZmZmZUkAAAAAAAJBSQM3MzMzM7E1AZmZmZmZmUUAzMzMzM7NGQAAAAAAAgDNAmpmZmZl5UUCamZmZmclVQAAAAAAAMFVAzczMzMx8VkDNzMzMzExcQAAAAAAAoFZAAAAAAADAU0BmZmZmZiY0QJqZmZmZ6VFAmpmZmZlZNEAAAAAAABBVQGZmZmZmhlNAmpmZmZlpVkDNzMzMzKxYQGZmZmZmFlNAmpmZmZnJU0AAAAAAAEBVQDMzMzMzU1VAMzMzMzOjVUBmZmZmZnZSQM3MzMzMbEZAzczMzMyMRkAAAAAAAABYQM3MzMzMDDRAmpmZmZkpW0BmZmZmZsZGQM3MzMzMjEFAmpmZmZkZR0AzMzMzM5NGQGZmZmZmpkVAMzMzMzOTTEDNzMzMzExSQGZmZmZmVlVAmpmZmZn5RkAAAAAAAPBUQDMzMzMzg1FAAAAAAACAVUAAAAAAACBZQJqZmZmZKVJAAAAAAAAANUDNzMzMzIxGQDMzMzMzM0lAzczMzMy8U0DNzMzMzJxXQDMzMzMzM1VAMzMzMzNzSUAzMzMzM/NYQGZmZmZm1lpAzczMzMyMM0BmZmZmZsZTQAAAAAAAgDlAAAAAAAAwVEBmZmZmZvZWQGZmZmZm1lJAzczMzMzcUkBmZmZmZsZIQGZmZmZmplNAZmZmZmZGVEDNzMzMzLxSQDMzMzMzY1dAZmZmZmaGWUCamZmZmblWQDMzMzMzMz1AmpmZmZlJVkBmZmZmZjZbQAAAAAAAMFVAmpmZmZnZRkDNzMzMzHxRQM3MzMzMTEZAzczMzMy8UkAAAAAAANBXQGZmZmZmdlZAzczMzMwcWUAzMzMzM5NHQM3MzMzMDFRAZmZmZmbGVUCamZmZmflSQAAAAAAAsFhAzczMzMycVUBmZmZmZqZGQGZmZmZmBlpAAAAAAABAVEBmZmZmZqZWQJqZmZmZCVZAMzMzMzMzNEAzMzMzM7NWQGZmZmZm1lNAMzMzMzMzWEBmZmZmZtZUQDMzMzMzs0hAzczMzMzMU0CamZmZmVlIQGZmZmZm5ldAAAAAAADgTUCamZmZmQlbQGZmZmZm1lFAZmZmZmYmNEAAAAAAAHBRQM3MzMzMTFdAZmZmZmY2VEAzMzMzM9NAQM3MzMzM/FNAzczMzMxMM0DNzMzMzMxYQM3MzMzMTFVAAAAAAADQUkDNzMzMzCxLQDMzMzMz8zhAzczMzMwsRUAzMzMzM9NSQDMzMzMzs1dAMzMzMzOjUUCamZmZmYlVQAAAAAAAQFVAMzMzMzMjVEAzMzMzM/NSQAAAAAAAoFhAAAAAAADQV0CamZmZmZlSQJqZmZmZSVVAMzMzMzMjVkAAAAAAAGBLQDMzMzMz01ZAAAAAAADgU0BmZmZmZoZRQDMzMzMz01tAAAAAAADQV0AAAAAAAJBVQDMzMzMzM1lAMzMzMzOTVUDNzMzMzHxWQM3MzMzMHFNAAAAAAACAUUCamZmZmRlQQM3MzMzMnFlAZmZmZmYGVEDNzMzMzAxUQJqZmZmZiVhAzczMzMw8XECamZmZmblRQGZmZmZmtlVAZmZmZmb2WEAAAAAAAKBSQJqZmZmZSVtAzczMzMxMUEAAAAAAAOBYQDMzMzMz41FAmpmZmZl5V0CamZmZmRlbQAAAAAAAYEhAmpmZmZlpVUDNzMzMzKxaQGZmZmZmJjlAZmZmZmaWW0AAAAAAANBZQGZmZmZm5kdAZmZmZmamWEAzMzMzM8NUQJqZmZmZmVFAAAAAAAAwWkAAAAAAAJBXQJqZmZmZ+UZAmpmZmZmJUUAzMzMzM2NVQDMzMzMzk1FAZmZmZmaWWkDNzMzMzOxZQGZmZmZmFlZAzczMzMyMV0AAAAAAABBYQM3MzMzMrFFAZmZmZmbGQEAzMzMzM6NXQM3MzMzMPFxAMzMzMzPzQUAAAAAAANBYQDMzMzMzczhAZmZmZmbWWUAzMzMzMzNVQM3MzMzM/FhAAAAAAACAVkBmZmZmZjZaQGZmZmZmhlpAzczMzMyMUkBmZmZmZlZWQJqZmZmZSVNAAAAAAACgQUBmZmZmZkZIQJqZmZmZmVhAZmZmZmZ2V0DNzMzMzCxZQM3MzMzMHFRAAAAAAACgS0CamZmZmTlLQGZmZmZm1lJAzczMzMzsUkAAAAAAAJBSQM3MzMzMbFZAmpmZmZkZWEAAAAAAAGBRQAAAAAAAUFVAZmZmZmZmM0AzMzMzM9NUQGZmZmZmBlRAmpmZmZlZT0DNzMzMzEw5QJqZmZmZiVhAzczMzMxsV0DNzMzMzHxaQAAAAAAAgFRAAAAAAADwV0AzMzMzM4NXQAAAAAAAYEtAmpmZmZnpV0BmZmZmZqZXQJqZmZmZuVhAMzMzMzMDU0AAAAAAAHBRQAAAAAAAQEFAMzMzMzNjWkCamZmZmRk+QDMzMzMzk1FAzczMzMwMVEBmZmZmZpZXQM3MzMzMTEZAmpmZmZmZM0DNzMzMzJxbQM3MzMzMrFFAAAAAAADQWEAzMzMzMzNVQAAAAAAAQFpAmpmZmZk5S0AzMzMzM1NVQGZmZmZm1lRAAAAAAADAQEBmZmZmZpZWQAAAAAAAsFZAZmZmZmZmVkAAAAAAAKBIQAAAAAAAwDNAmpmZmZnJV0BmZmZmZlZZQDMzMzMzg1FAmpmZmZmpUkAzMzMzMzNJQJqZmZmZ6VNAZmZmZmb2U0AAAAAAALBTQM3MzMzMHFRAzczMzMwMSUCamZmZmRlTQM3MzMzMrFhAMzMzMzMzWUBmZmZmZoZWQGZmZmZmxklAAAAAAADQU0BmZmZmZrZXQM3MzMzMbFVAMzMzMzMzRkAAAAAAAGBWQDMzMzMzg1VAZmZmZmZGRkAzMzMzM7NBQJqZmZmZ6VdAMzMzMzPzNECamZmZmVlBQAAAAAAAwDNAMzMzMzMjV0BmZmZmZgZOQDMzMzMzk1JAZmZmZmZWVUAzMzMzM5NSQGZmZmZmhlhAmpmZmZlpW0AzMzMzM6NSQM3MzMzMPFlAmpmZmZm5V0CamZmZmTlaQJqZmZmZGThAMzMzMzMDWkBmZmZmZhZWQJqZmZmZqVdAmpmZmZmZUkCamZmZmflTQM3MzMzMbFFAZmZmZmaGWEAAAAAAAIA0QGZmZmZm5lhAzczMzMx8VEBmZmZmZlZRQGZmZmZmxlZAZmZmZmaGVUDNzMzMzKxXQGZmZmZmRlVAmpmZmZnJWEDNzMzMzLxZQGZmZmZmhkZAAAAAAADAUUAzMzMzM6NRQM3MzMzM7FNAAAAAAACATUDNzMzMzCxOQAAAAAAAUFFAzczMzMy8UUAAAAAAAEBWQJqZmZmZ2VhAAAAAAABgUkAAAAAAAOBXQGZmZmZmFldAMzMzMzOjUkAzMzMzM/NUQJqZmZmZOUtAMzMzMzPzWEBmZmZmZnZaQM3MzMzM3FJAZmZmZmZ2V0AAAAAAADBZQAAAAAAAAD9AAAAAAAAAVEAAAAAAAJBRQJqZmZmZCVlAAAAAAACgV0AzMzMzM/NAQM3MzMzMfFZAzczMzMwcVUAAAAAAAOBTQJqZmZmZSVZAzczMzMy8UkCamZmZmZlSQGZmZmZmpktAMzMzMzOTS0DNzMzMzDxVQAAAAAAAoEVAzczMzMwsSEAzMzMzM+NTQDMzMzMzw1FAAAAAAAAgVUBmZmZmZiZbQM3MzMzMTD5AZmZmZmZmPkAzMzMzM7NGQJqZmZmZCVVAAAAAAADAM0CamZmZmVlVQM3MzMzMzFJAzczMzMzsS0CamZmZmZlaQJqZmZmZGVVAAAAAAAAgTEAzMzMzM2NVQJqZmZmZKVFAZmZmZmZ2U0BmZmZmZlZaQDMzMzMzw1VAAAAAAADASkCamZmZmRk5QJqZmZmZ6VNAmpmZmZkZS0AzMzMzM3MzQJqZmZmZ2VlAzczMzMwcVUDNzMzMzHxVQDMzMzMzs01AmpmZmZmZPkAzMzMzM+NYQAAAAAAAgFFAZmZmZmamRkCamZmZmdk9QGZmZmZmxldAzczMzMzMM0CamZmZmSlTQJqZmZmZyVhAmpmZmZl5RkBmZmZmZsZIQJqZmZmZ+VdAAAAAAABgVEBmZmZmZgZVQJqZmZmZOUJAzczMzMwMOUDNzMzMzOxIQGZmZmZmxktAAAAAAABgUUAzMzMzMxNaQGZmZmZmdldAmpmZmZk5SUCamZmZmalSQM3MzMzMjFdAMzMzMzOjWkCamZmZmRk0QDMzMzMz81RAMzMzMzOTS0CamZmZmalVQAAAAAAAsFpAzczMzMycU0DNzMzMzNxVQAAAAAAAsFFAZmZmZmZWWUDNzMzMzGxUQAAAAAAAEFFAmpmZmZnJU0DNzMzMzNxXQM3MzMzMPFlAZmZmZmZGUUBmZmZmZmZRQM3MzMzM3FlAzczMzMx8U0DNzMzMzJxTQAAAAAAAgD1AAAAAAACwUUDNzMzMzBxVQJqZmZmZaVVAmpmZmZmJUUAzMzMzM3NYQGZmZmZmJkdAMzMzMzOTWkCamZmZmVlWQJqZmZmZyVRAmpmZmZmJUkAAAAAAAOBYQDMzMzMzE0ZAMzMzMzPzSkDNzMzMzFxVQM3MzMzMbElAmpmZmZmZTUDNzMzMzMxUQDMzMzMzc0tAmpmZmZn5WUAAAAAAAEAzQM3MzMzM3FJAzczMzMxsS0BmZmZmZsZXQAAAAAAA4FJAAAAAAABwUkAzMzMzMwNYQM3MzMzMPFZAmpmZmZlZSUAzMzMzM7NKQJqZmZmZeVlAAAAAAADAVEDNzMzMzExJQAAAAAAAYFZAMzMzMzNzUUAzMzMzM3NXQDMzMzMzQ1lAzczMzMysV0CamZmZmQlaQJqZmZmZuU5AMzMzMzOjVkAzMzMzMzNWQM3MzMzMTFVAmpmZmZnZVkCamZmZmYlaQGZmZmZmpkZAAAAAAABQUkBmZmZmZoZJQGZmZmZmVlVAZmZmZmbWUkDNzMzMzMxSQGZmZmZm5jRAZmZmZmamRUAAAAAAAGBbQDMzMzMzM1VAMzMzMzPDV0DNzMzMzCxJQGZmZmZmplJAMzMzMzOzM0CamZmZmblNQM3MzMzMTFpAMzMzMzOTRkAzMzMzM3NXQM3MzMzMDFhAZmZmZmbmU0AAAAAAAFBVQAAAAAAAIFRAMzMzMzNzVkAAAAAAAGBJQJqZmZmZaVZAmpmZmZlZUECamZmZmTlSQAAAAAAAAERAzczMzMzcWEAAAAAAAJBVQDMzMzMz00ZAZmZmZmaGUUDNzMzMzIxRQM3MzMzMrEtAzczMzMwMVUDNzMzMzOxGQAAAAAAA0FJAmpmZmZkJWUAAAAAAAHBaQM3MzMzMLEhAZmZmZmZmOEAzMzMzM/M0QGZmZmZmxkhAAAAAAABANEAzMzMzMxNJQJqZmZmZ+VdAAAAAAABAOUAzMzMzM5NGQJqZmZmZGVVAZmZmZmbGUkCamZmZmYlRQAAAAAAAcFlAZmZmZmbmRkCamZmZmRk0QDMzMzMzU0RAAAAAAABAWUBmZmZmZkZRQAAAAAAAwFJAAAAAAAAAWUCamZmZmclRQDMzMzMzE0tAAAAAAAAwW0AzMzMzM5NIQGZmZmZmZjNAmpmZmZnJU0CamZmZmRlUQAAAAAAAgFlAZmZmZmamNEAzMzMzM7NRQDMzMzMzQ1ZAZmZmZmYmWEAAAAAAACBaQM3MzMzMTElAzczMzMysSEAAAAAAAJBXQM3MzMzMPFFAZmZmZmZ2V0AzMzMzMwNTQDMzMzMzczhAZmZmZmZWVkBmZmZmZhZUQGZmZmZm5ktAMzMzMzPDU0AAAAAAAMBXQDMzMzMzMzlAmpmZmZmZWECamZmZmdlTQJqZmZmZWVlAMzMzMzNzVkAAAAAAAHBbQM3MzMzMTDNAAAAAAADQVkDNzMzMzIxIQAAAAAAAUFBAzczMzMxcVUBmZmZmZoZXQJqZmZmZ6VFAmpmZmZkpWkAAAAAAAJBSQM3MzMzMjFJAAAAAAABAWUDNzMzMzAxZQDMzMzMzQ1ZAZmZmZmaGUUCamZmZmWlaQAAAAAAAIFhAZmZmZma2UUDNzMzMzHxVQJqZmZmZeVJAzczMzMxcW0DNzMzMzAxZQDMzMzMzg1JAMzMzMzNjWUDNzMzMzPxbQJqZmZmZ+UtAAAAAAADgRkDNzMzMzLxSQJqZmZmZCVRAAAAAAABQW0CamZmZmZlBQDMzMzMzs1NAmpmZmZmZWkAzMzMzM7NIQGZmZmZmRlFAzczMzMyMVkAzMzMzM2NXQGZmZmZmNlRAMzMzMzODVEDNzMzMzIw0QDMzMzMzo1NAmpmZmZmpU0AzMzMzM3NFQAAAAAAAIEFAAAAAAABATUDNzMzMzAxYQJqZmZmZmVJAMzMzMzNTWkBmZmZmZnZSQDMzMzMzI1VAAAAAAADAOEAzMzMzM3NVQDMzMzMzczhAzczMzMxsWkAAAAAAAEA4QAAAAAAAIFNAAAAAAABgV0AAAAAAAGBZQJqZmZmZuVJAZmZmZmZmUUDNzMzMzAw4QGZmZmZmRklAMzMzMzMjWUAAAAAAAIA0QDMzMzMzs1JAMzMzMzNzOEAAAAAAAMBRQGZmZmZmJkRAzczMzMxMSUBmZmZmZjZVQM3MzMzMbFBAAAAAAACgUUBmZmZmZrZXQAAAAAAAwDNAzczMzMxcUEDNzMzMzKxYQAAAAAAA4FBAZmZmZmZmUUBmZmZmZhZVQM3MzMzMDFlAMzMzMzODU0BmZmZmZmZSQAAAAAAAsFJAMzMzMzMzNEAzMzMzM2NXQM3MzMzMDDlAMzMzMzPjV0BmZmZmZqZDQAAAAAAAQDRAZmZmZmbmN0DNzMzMzFxVQJqZmZmZ+VhAMzMzMzMzVUDNzMzMzMxSQM3MzMzMrEhAmpmZmZm5UkAAAAAAAFBZQDMzMzMz8zJAmpmZmZmZPECamZmZmVk4QJqZmZmZqVhAmpmZmZn5U0AzMzMzM9NZQM3MzMzMDFhAmpmZmZkJWkDNzMzMzLxZQGZmZmZmplZAZmZmZmZmSUAzMzMzM4NWQGZmZmZm9lJAAAAAAAAgUUAAAAAAAGBSQM3MzMzMfFFAMzMzMzODUUAAAAAAAIBXQDMzMzMzk05AzczMzMwcVUAzMzMzM9NSQDMzMzMzY1tAmpmZmZmZM0CamZmZmZlQQDMzMzMzA1lAAAAAAACAWUDNzMzMzIxWQGZmZmZmJjlAZmZmZmb2U0DNzMzMzMxIQM3MzMzMfFpAZmZmZmb2VkDNzMzMzAxEQJqZmZmZeVJAMzMzMzNzVkAAAAAAABBSQDMzMzMzI1hAzczMzMwMREAAAAAAAFBZQDMzMzMz41NAMzMzMzMDVUBmZmZmZkZWQJqZmZmZmVdAAAAAAACQU0AzMzMzMxNGQAAAAAAA8FJAmpmZmZkZM0AzMzMzMxNUQJqZmZmZuVJAZmZmZmY2VEAAAAAAAMA4QGZmZmZmtlZAzczMzMzsU0BmZmZmZsZMQAAAAAAAoFVAzczMzMz8WUCamZmZmRk5QJqZmZmZeUhAMzMzMzPjVECamZmZmUlWQM3MzMzMnFFAZmZmZmYmTkAAAAAAAMA4QDMzMzMz01lAAAAAAACgU0CamZmZmdkzQJqZmZmZ+VNAzczMzMzsWEDNzMzMzExNQAAAAAAAoFhAmpmZmZk5SUCamZmZmalXQAAAAAAAEFlAzczMzMwcVkBmZmZmZnZRQM3MzMzMbFRAmpmZmZn5U0BmZmZmZmY5QAAAAAAA8FRAZmZmZmbmNECamZmZmVlRQJqZmZmZuVJAmpmZmZmJUkBmZmZmZoZRQDMzMzMzk1NAMzMzMzMzWECamZmZmZlXQDMzMzMzE1VAzczMzMwcV0AzMzMzM+NYQAAAAAAAUFRAMzMzMzPzM0AAAAAAANBYQM3MzMzMHFRAZmZmZmbWU0AAAAAAAPBTQDMzMzMzA1lAZmZmZmZWUUAzMzMzM3NVQM3MzMzM7FNAZmZmZmZGSUAzMzMzMyNUQAAAAAAAIFVAMzMzMzMTVUAAAAAAAPBQQAAAAAAAUFVAMzMzMzMDVEAAAAAAAAA0QGZmZmZmZkhAMzMzMzNDVUAzMzMzM7NZQM3MzMzM/FhAMzMzMzNzXUAAAAAAAOBTQJqZmZmZ6VNAzczMzMysV0AAAAAAACBXQDMzMzMzczNAMzMzMzPjUkAAAAAAAIBRQDMzMzMzs1JAmpmZmZkZWkDNzMzMzIxVQJqZmZmZmUlAAAAAAACAM0CamZmZmblSQJqZmZmZuVJAAAAAAAAQWUAzMzMzM7NZQAAAAAAAAFlAZmZmZmb2WEDNzMzMzIxXQGZmZmZm9lRAMzMzMzMTVkAzMzMzMwNaQM3MzMzMrFdAmpmZmZkpWUAzMzMzMyNUQGZmZmZmtlNAmpmZmZk5RkCamZmZmTlVQAAAAAAAQDRAZmZmZmaWUkBmZmZmZgZPQAAAAAAAAFRAZmZmZmYGWkDNzMzMzIxDQAAAAAAAIFNAmpmZmZmZSEBmZmZmZiY3QGZmZmZmNlRAzczMzMwMTkDNzMzMzLxTQDMzMzMzk0ZAmpmZmZnZU0CamZmZmflKQDMzMzMz01hAmpmZmZkpVEBmZmZmZsZRQAAAAAAAkFpAzczMzMzMNEAAAAAAAIBXQGZmZmZmdlZAAAAAAAAAR0AAAAAAAJBQQAAAAAAAgFZAzczMzMycUUAAAAAAAMAzQJqZmZmZ+UpAAAAAAABgWkAAAAAAAEBUQDMzMzMzc1FAAAAAAABwUkBmZmZmZkZLQAAAAAAAEFNAmpmZmZl5V0CamZmZmZlRQJqZmZmZyVZAzczMzMy8UUAAAAAAAOBYQJqZmZmZ+VRAzczMzMxcXUCamZmZmRlaQGZmZmZmZj1AMzMzMzNTRkAAAAAAAEA5QDMzMzMzA1VAzczMzMxsVUDNzMzMzKxSQDMzMzMzs1ZAmpmZmZmJWkBmZmZmZlZVQGZmZmZmtlZAAAAAAADgQUAAAAAAAABHQJqZmZmZWVZAzczMzMzMM0AzMzMzM3NJQAAAAAAAQFRAZmZmZmaWWEAAAAAAAIBJQJqZmZmZ6VZAZmZmZma2VkCamZmZmVlRQM3MzMzMnFdAZmZmZmYmNEDNzMzMzOxXQM3MzMzMvFJAmpmZmZn5R0DNzMzMzMxPQM3MzMzMbEJAzczMzMwMRkAAAAAAAGBJQJqZmZmZGVpAZmZmZmamQ0DNzMzMzJxaQDMzMzMzA1hAZmZmZmbGUkCamZmZmVlGQAAAAAAAgEtAZmZmZmaWUkDNzMzMzCxaQJqZmZmZ2UtAmpmZmZnZM0AzMzMzM5NRQDMzMzMzY1VAAAAAAACgV0BmZmZmZlZVQJqZmZmZ6VNAZmZmZmbmU0BmZmZmZqZWQDMzMzMzMzRAMzMzMzODWkCamZmZmclYQDMzMzMz80tAZmZmZmaWVEAzMzMzMzNEQGZmZmZm1lJAmpmZmZlJVUAzMzMzM3NXQGZmZmZmZjRAzczMzMysV0AAAAAAAIA+QAAAAAAAQFNAmpmZmZkZNEAzMzMzM9NSQM3MzMzMzFhAAAAAAABgVUDNzMzMzAw0QJqZmZmZmVFAAAAAAADgSEAzMzMzM9NSQAAAAAAAgFdAZmZmZmaWXUAzMzMzM3M+QGZmZmZmBlhAAAAAAAAQWkDNzMzMzAxUQM3MzMzMDFpAmpmZmZlpUUAzMzMzMzNUQDMzMzMzE1RAZmZmZmYGVUBmZmZmZlZRQGZmZmZm5lNAmpmZmZk5QkCamZmZmVlWQGZmZmZmFlRAMzMzMzNTRECamZmZmTlOQJqZmZmZOVVAMzMzMzNjUkBmZmZmZiY0QJqZmZmZWUFAMzMzMzPjWkAAAAAAALBYQJqZmZmZSVlAzczMzMwsVkAAAAAAAPBTQDMzMzMzo1dAMzMzMzNDUUAAAAAAABBYQGZmZmZmRllAzczMzMwsWkAAAAAAAKBLQGZmZmZmhlZAAAAAAADgSkAzMzMzM1NWQM3MzMzMzFdAmpmZmZnZRkAAAAAAAKBSQJqZmZmZ6VNAMzMzMzNTWUAzMzMzMwNUQM3MzMzMTFZAmpmZmZnpVEAAAAAAAIAzQAAAAAAAoElAzczMzMzMRkAzMzMzM9NIQAAAAAAAADRAAAAAAAAAQUAAAAAAACBXQGZmZmZmFlZAzczMzMz8WkDNzMzMzJxSQAAAAAAAMFBAMzMzMzNzVkAAAAAAAOBXQGZmZmZmpj1AAAAAAAAgVUDNzMzMzKxWQDMzMzMzk1FAzczMzMz8WUAAAAAAALBSQGZmZmZmZklAAAAAAAAQVECamZmZmblTQAAAAAAAMFVAzczMzMxcVUBmZmZmZuYzQM3MzMzM3FhAZmZmZmamUUAAAAAAAEBUQGZmZmZmNlVAmpmZmZlJVkDNzMzMzMw4QJqZmZmZaVpAZmZmZmY2VEDNzMzMzFxWQJqZmZmZCVJAmpmZmZkZU0DNzMzMzMxOQJqZmZmZ+VNAmpmZmZkJWEAzMzMzM1NQQGZmZmZmpjNAmpmZmZkpVUAzMzMzM2NRQM3MzMzMDD9AAAAAAACASUDNzMzMzCxGQM3MzMzM7FNAAAAAAACAS0BmZmZmZjZVQJqZmZmZaVJAmpmZmZl5UkAAAAAAAHBTQGZmZmZmFlVAzczMzMw8VUBmZmZmZnZSQGZmZmZm5klAAAAAAAAAR0CamZmZmdlTQDMzMzMz81FAmpmZmZkZVkAAAAAAAABHQAAAAAAA4ElAmpmZmZmZV0CamZmZmYlRQJqZmZmZWUFAZmZmZmZGVEDNzMzMzIw0QGZmZmZmplpAAAAAAACwWkDNzMzMzFxWQJqZmZmZeVhAmpmZmZnZS0AzMzMzM/NTQGZmZmZmhkNAmpmZmZn5VEBmZmZmZnZRQGZmZmZmxkpAmpmZmZl5V0CamZmZmUlcQM3MzMzMPFVAAAAAAAAgVEDNzMzMzEwzQDMzMzMz00hAzczMzMwsS0DNzMzMzBxWQAAAAAAAoFZAZmZmZma2V0DNzMzMzHxRQM3MzMzMTEhAZmZmZmbmS0CamZmZmQlUQAAAAAAA4FJAMzMzMzMzNEAAAAAAALBSQDMzMzMzA1pAmpmZmZkpWEDNzMzMzAw0QM3MzMzM3FlAZmZmZmbmM0DNzMzMzCxHQDMzMzMz8zNAZmZmZmbmU0CamZmZmflSQM3MzMzMDFNAAAAAAABAM0AzMzMzMxNVQAAAAAAAwFNAAAAAAACQUUBmZmZmZiZVQJqZmZmZGThAAAAAAAAATkAzMzMzM6NVQJqZmZmZ2TRAAAAAAABgSUAAAAAAAGBaQJqZmZmZSVVAmpmZmZkZS0AAAAAAAGBbQJqZmZmZGVpAZmZmZmZGWkDNzMzMzOxSQDMzMzMzs1ZAzczMzMx8WECamZmZmQlbQAAAAAAAIFRAMzMzMzMTWkBmZmZmZtZRQJqZmZmZWVZAmpmZmZmZNEDNzMzMzPxYQAAAAAAAQFRAmpmZmZmJUUCamZmZmYlRQDMzMzMzI1hAMzMzMzPjV0CamZmZmWlRQDMzMzMzU1ZAMzMzMzPjVUAzMzMzMxNYQM3MzMzMTFVAzczMzMyMQUAzMzMzM1NUQJqZmZmZmTNAzczMzMxcVUAAAAAAAMBRQDMzMzMzQ1VAMzMzMzMzRkAzMzMzM5NRQGZmZmZm1lNAMzMzMzOzVkDNzMzMzJxRQAAAAAAAoEZAMzMzMzPzUkAzMzMzM9NRQGZmZmZmRlFAAAAAAAAQVkAAAAAAAIBRQGZmZmZmVlhAZmZmZmbmOUAzMzMzM9NLQJqZmZmZaVFAZmZmZmYmWUAAAAAAAIBVQM3MzMzMvFpAmpmZmZmZPUAzMzMzM/NNQGZmZmZm5ldAzczMzMzMREBmZmZmZjZZQJqZmZmZGURAAAAAAAAgVUDNzMzMzLxTQDMzMzMzMzRAzczMzMxMVUAAAAAAAIBYQM3MzMzMnFdAAAAAAABAWkBmZmZmZnZXQAAAAAAAAFVAAAAAAABgSEBmZmZmZjZVQDMzMzMzU0xAmpmZmZl5UkAAAAAAAIA4QJqZmZmZeVZAMzMzMzOjU0DNzMzMzNxYQDMzMzMzMzlAMzMzMzODUkAAAAAAAIBLQAAAAAAAcFZAmpmZmZlJVUBmZmZmZqZXQAAAAAAAkFdAzczMzMwcUkDNzMzMzExaQGZmZmZmtlRAZmZmZmb2WUBmZmZmZuZUQM3MzMzMHFtAAAAAAADgVkBmZmZmZjZUQGZmZmZmhkhAMzMzMzNTWkDNzMzMzDxWQGZmZmZmtltAzczMzMyMXEAAAAAAAEBCQAAAAAAAsFFAMzMzMzMTREDNzMzMzJxXQGZmZmZmVlhAZmZmZmamRkDNzMzMzLxXQGZmZmZmRkZAMzMzMzNzN0AzMzMzM7M9QGZmZmZmRllAMzMzMzNTSUAzMzMzM7NLQGZmZmZmplZAZmZmZma2VUAzMzMzM8NYQAAAAAAA0FtAzczMzMyMS0AAAAAAAJBZQJqZmZmZ+VdAMzMzMzPDV0DNzMzMzOxKQM3MzMzMDFpAAAAAAAAgSUAAAAAAAOBYQAAAAAAAwFFAzczMzMxMV0CamZmZmVkzQJqZmZmZ2TNAzczMzMwMWkAAAAAAANBTQDMzMzMzc0ZAZmZmZmaGUUBmZmZmZqY9QGZmZmZmdlNAZmZmZmYmS0CamZmZmclXQGZmZmZmtltAAAAAAAAgVEDNzMzMzAxSQAAAAAAAwElAMzMzMzNjVkAAAAAAAGBTQAAAAAAA0FdAAAAAAABAVUAAAAAAAHBVQAAAAAAAkFhAMzMzMzOzOUAAAAAAAEBRQGZmZmZmBkdAmpmZmZkZU0AAAAAAACBZQGZmZmZmBkRAzczMzMx8UUAzMzMzM1NXQDMzMzMzk0hAZmZmZmaGQUAAAAAAAEBSQGZmZmZm9lRAZmZmZmaGUUCamZmZmalRQJqZmZmZWTRAAAAAAADAWEDNzMzMzPxUQM3MzMzMDF1AzczMzMxsV0AzMzMzM7MzQDMzMzMz41JAmpmZmZlpU0AAAAAAAMBXQJqZmZmZWVpAZmZmZmb2V0CamZmZmclTQGZmZmZmpjNAAAAAAADAU0BmZmZmZvZWQAAAAAAAgFpAMzMzMzPzSEBmZmZmZhZZQM3MzMzMvFJAAAAAAACgSEDNzMzMzOxZQAAAAAAAcFZAzczMzMxMNEDNzMzMzHxZQAAAAAAAgFdAMzMzMzNTVkAzMzMzM5NSQDMzMzMzU0ZAMzMzMzMDVUDNzMzMzCxUQM3MzMzMbFlAZmZmZmZmNEBmZmZmZqZZQAAAAAAAgFpAzczMzMyMS0AAAAAAAKBaQDMzMzMzw1ZAAAAAAABgU0CamZmZmRlLQAAAAAAAUFFAAAAAAABASUCamZmZmZlSQM3MzMzM3FNAmpmZmZkpWkAzMzMzMwNZQDMzMzMzI1lAmpmZmZnpV0CamZmZmZlXQAAAAAAAgEtAzczMzMxcWUDNzMzMzPxQQAAAAAAAYFFAmpmZmZnZMkDNzMzMzExRQJqZmZmZaVFAZmZmZmZ2WUAzMzMzM5NUQAAAAAAA0FNAZmZmZmYmVUCamZmZmVlXQM3MzMzMjFdAzczMzMwMOUCamZmZmRk5QJqZmZmZeUhAZmZmZmamRkBmZmZmZnZVQM3MzMzMzFdAZmZmZmYmWUBmZmZmZqZLQGZmZmZmtlJAZmZmZmaWWUCamZmZmelcQGZmZmZm9lNAAAAAAAAAU0AAAAAAADBaQJqZmZmZqVJAAAAAAAAgTEBmZmZmZoZaQAAAAAAA8FNAmpmZmZkpUUAAAAAAAEA0QM3MzMzMDFlAmpmZmZm5UkBmZmZmZrZRQDMzMzMzc1FAZmZmZmZGS0AAAAAAALBRQGZmZmZmhldAMzMzMzOzPUCamZmZmblbQAAAAAAAQFpAzczMzMxMOUAzMzMzM5NLQJqZmZmZGTRAmpmZmZl5UUCamZmZmVlZQDMzMzMzM1RAZmZmZmYGT0DNzMzMzBxTQDMzMzMz01ZAAAAAAADwV0AzMzMzM1NPQAAAAAAAoFJAZmZmZmaGWUAzMzMzMxNJQAAAAAAAoFVAzczMzMxcVECamZmZmUlRQDMzMzMz41NAAAAAAADgV0AzMzMzM8NWQM3MzMzMzFNAAAAAAACgRkAzMzMzM5NSQGZmZmZmhlJAZmZmZmYmWUAAAAAAAMBSQM3MzMzMjFFAAAAAAACwUUAAAAAAACBJQM3MzMzMzFNAAAAAAAAAWEBmZmZmZgZZQAAAAAAAQExAAAAAAABAVUBmZmZmZqZNQDMzMzMzs0hAAAAAAACAS0DNzMzMzExRQGZmZmZmJk9AAAAAAAAgV0CamZmZmWlRQGZmZmZm5ltAZmZmZmZGSEAzMzMzMzM0QDMzMzMz00NAZmZmZmbmOECamZmZmVlMQM3MzMzMfFpAzczMzMy8UkAzMzMzM7M9QM3MzMzMLElAzczMzMzsR0AzMzMzM5NRQDMzMzMzs1hAZmZmZmb2WEAzMzMzMxNUQM3MzMzMHFRAMzMzMzOzVUDNzMzMzAxVQAAAAAAAwFhAAAAAAAAwWUAAAAAAAPBWQDMzMzMz41NAZmZmZmbGW0BmZmZmZkZWQJqZmZmZeVlAmpmZmZnpVkBmZmZmZjZWQM3MzMzMTDlAzczMzMzcV0BmZmZmZsZWQDMzMzMzE0tAzczMzMxsUUAAAAAAAGBWQDMzMzMzk0FAAAAAAABwUkBmZmZmZlZZQDMzMzMz80tAmpmZmZl5WkCamZmZmflFQM3MzMzMjEZAAAAAAACQUUDNzMzMzKxLQAAAAAAAwFlAAAAAAADwWUBmZmZmZlZRQGZmZmZmdlJAmpmZmZnJUkBmZmZmZmZRQJqZmZmZCVRAAAAAAACAPkAzMzMzM5NYQJqZmZmZ2VpAAAAAAACAVECamZmZmdlSQAAAAAAAUFlAAAAAAABgVkCamZmZmZlSQAAAAAAAgDRAZmZmZmaWUkAAAAAAAPBYQM3MzMzM/FtAAAAAAACAQ0BmZmZmZoZXQJqZmZmZ6VdAMzMzMzMDVkAAAAAAAKBQQJqZmZmZuUFAMzMzMzPzSEAAAAAAACBaQDMzMzMzw1JAAAAAAABAVEDNzMzMzJxSQDMzMzMzM05AmpmZmZmpUUBmZmZmZuZNQJqZmZmZGUZAAAAAAADwUkDNzMzMzLxZQJqZmZmZmVJA",
                    "dtype": "f8"
                  },
                  "xaxis": "x",
                  "yaxis": "y"
                }
              ],
              "layout": {
                "barmode": "overlay",
                "legend": {
                  "title": {
                    "text": "Churn"
                  },
                  "tracegroupgap": 0
                },
                "template": {
                  "data": {
                    "bar": [
                      {
                        "error_x": {
                          "color": "#2a3f5f"
                        },
                        "error_y": {
                          "color": "#2a3f5f"
                        },
                        "marker": {
                          "line": {
                            "color": "#E5ECF6",
                            "width": 0.5
                          },
                          "pattern": {
                            "fillmode": "overlay",
                            "size": 10,
                            "solidity": 0.2
                          }
                        },
                        "type": "bar"
                      }
                    ],
                    "barpolar": [
                      {
                        "marker": {
                          "line": {
                            "color": "#E5ECF6",
                            "width": 0.5
                          },
                          "pattern": {
                            "fillmode": "overlay",
                            "size": 10,
                            "solidity": 0.2
                          }
                        },
                        "type": "barpolar"
                      }
                    ],
                    "carpet": [
                      {
                        "aaxis": {
                          "endlinecolor": "#2a3f5f",
                          "gridcolor": "white",
                          "linecolor": "white",
                          "minorgridcolor": "white",
                          "startlinecolor": "#2a3f5f"
                        },
                        "baxis": {
                          "endlinecolor": "#2a3f5f",
                          "gridcolor": "white",
                          "linecolor": "white",
                          "minorgridcolor": "white",
                          "startlinecolor": "#2a3f5f"
                        },
                        "type": "carpet"
                      }
                    ],
                    "choropleth": [
                      {
                        "colorbar": {
                          "outlinewidth": 0,
                          "ticks": ""
                        },
                        "type": "choropleth"
                      }
                    ],
                    "contour": [
                      {
                        "colorbar": {
                          "outlinewidth": 0,
                          "ticks": ""
                        },
                        "colorscale": [
                          [
                            0,
                            "#0d0887"
                          ],
                          [
                            0.1111111111111111,
                            "#46039f"
                          ],
                          [
                            0.2222222222222222,
                            "#7201a8"
                          ],
                          [
                            0.3333333333333333,
                            "#9c179e"
                          ],
                          [
                            0.4444444444444444,
                            "#bd3786"
                          ],
                          [
                            0.5555555555555556,
                            "#d8576b"
                          ],
                          [
                            0.6666666666666666,
                            "#ed7953"
                          ],
                          [
                            0.7777777777777778,
                            "#fb9f3a"
                          ],
                          [
                            0.8888888888888888,
                            "#fdca26"
                          ],
                          [
                            1,
                            "#f0f921"
                          ]
                        ],
                        "type": "contour"
                      }
                    ],
                    "contourcarpet": [
                      {
                        "colorbar": {
                          "outlinewidth": 0,
                          "ticks": ""
                        },
                        "type": "contourcarpet"
                      }
                    ],
                    "heatmap": [
                      {
                        "colorbar": {
                          "outlinewidth": 0,
                          "ticks": ""
                        },
                        "colorscale": [
                          [
                            0,
                            "#0d0887"
                          ],
                          [
                            0.1111111111111111,
                            "#46039f"
                          ],
                          [
                            0.2222222222222222,
                            "#7201a8"
                          ],
                          [
                            0.3333333333333333,
                            "#9c179e"
                          ],
                          [
                            0.4444444444444444,
                            "#bd3786"
                          ],
                          [
                            0.5555555555555556,
                            "#d8576b"
                          ],
                          [
                            0.6666666666666666,
                            "#ed7953"
                          ],
                          [
                            0.7777777777777778,
                            "#fb9f3a"
                          ],
                          [
                            0.8888888888888888,
                            "#fdca26"
                          ],
                          [
                            1,
                            "#f0f921"
                          ]
                        ],
                        "type": "heatmap"
                      }
                    ],
                    "histogram": [
                      {
                        "marker": {
                          "pattern": {
                            "fillmode": "overlay",
                            "size": 10,
                            "solidity": 0.2
                          }
                        },
                        "type": "histogram"
                      }
                    ],
                    "histogram2d": [
                      {
                        "colorbar": {
                          "outlinewidth": 0,
                          "ticks": ""
                        },
                        "colorscale": [
                          [
                            0,
                            "#0d0887"
                          ],
                          [
                            0.1111111111111111,
                            "#46039f"
                          ],
                          [
                            0.2222222222222222,
                            "#7201a8"
                          ],
                          [
                            0.3333333333333333,
                            "#9c179e"
                          ],
                          [
                            0.4444444444444444,
                            "#bd3786"
                          ],
                          [
                            0.5555555555555556,
                            "#d8576b"
                          ],
                          [
                            0.6666666666666666,
                            "#ed7953"
                          ],
                          [
                            0.7777777777777778,
                            "#fb9f3a"
                          ],
                          [
                            0.8888888888888888,
                            "#fdca26"
                          ],
                          [
                            1,
                            "#f0f921"
                          ]
                        ],
                        "type": "histogram2d"
                      }
                    ],
                    "histogram2dcontour": [
                      {
                        "colorbar": {
                          "outlinewidth": 0,
                          "ticks": ""
                        },
                        "colorscale": [
                          [
                            0,
                            "#0d0887"
                          ],
                          [
                            0.1111111111111111,
                            "#46039f"
                          ],
                          [
                            0.2222222222222222,
                            "#7201a8"
                          ],
                          [
                            0.3333333333333333,
                            "#9c179e"
                          ],
                          [
                            0.4444444444444444,
                            "#bd3786"
                          ],
                          [
                            0.5555555555555556,
                            "#d8576b"
                          ],
                          [
                            0.6666666666666666,
                            "#ed7953"
                          ],
                          [
                            0.7777777777777778,
                            "#fb9f3a"
                          ],
                          [
                            0.8888888888888888,
                            "#fdca26"
                          ],
                          [
                            1,
                            "#f0f921"
                          ]
                        ],
                        "type": "histogram2dcontour"
                      }
                    ],
                    "mesh3d": [
                      {
                        "colorbar": {
                          "outlinewidth": 0,
                          "ticks": ""
                        },
                        "type": "mesh3d"
                      }
                    ],
                    "parcoords": [
                      {
                        "line": {
                          "colorbar": {
                            "outlinewidth": 0,
                            "ticks": ""
                          }
                        },
                        "type": "parcoords"
                      }
                    ],
                    "pie": [
                      {
                        "automargin": true,
                        "type": "pie"
                      }
                    ],
                    "scatter": [
                      {
                        "fillpattern": {
                          "fillmode": "overlay",
                          "size": 10,
                          "solidity": 0.2
                        },
                        "type": "scatter"
                      }
                    ],
                    "scatter3d": [
                      {
                        "line": {
                          "colorbar": {
                            "outlinewidth": 0,
                            "ticks": ""
                          }
                        },
                        "marker": {
                          "colorbar": {
                            "outlinewidth": 0,
                            "ticks": ""
                          }
                        },
                        "type": "scatter3d"
                      }
                    ],
                    "scattercarpet": [
                      {
                        "marker": {
                          "colorbar": {
                            "outlinewidth": 0,
                            "ticks": ""
                          }
                        },
                        "type": "scattercarpet"
                      }
                    ],
                    "scattergeo": [
                      {
                        "marker": {
                          "colorbar": {
                            "outlinewidth": 0,
                            "ticks": ""
                          }
                        },
                        "type": "scattergeo"
                      }
                    ],
                    "scattergl": [
                      {
                        "marker": {
                          "colorbar": {
                            "outlinewidth": 0,
                            "ticks": ""
                          }
                        },
                        "type": "scattergl"
                      }
                    ],
                    "scattermap": [
                      {
                        "marker": {
                          "colorbar": {
                            "outlinewidth": 0,
                            "ticks": ""
                          }
                        },
                        "type": "scattermap"
                      }
                    ],
                    "scattermapbox": [
                      {
                        "marker": {
                          "colorbar": {
                            "outlinewidth": 0,
                            "ticks": ""
                          }
                        },
                        "type": "scattermapbox"
                      }
                    ],
                    "scatterpolar": [
                      {
                        "marker": {
                          "colorbar": {
                            "outlinewidth": 0,
                            "ticks": ""
                          }
                        },
                        "type": "scatterpolar"
                      }
                    ],
                    "scatterpolargl": [
                      {
                        "marker": {
                          "colorbar": {
                            "outlinewidth": 0,
                            "ticks": ""
                          }
                        },
                        "type": "scatterpolargl"
                      }
                    ],
                    "scatterternary": [
                      {
                        "marker": {
                          "colorbar": {
                            "outlinewidth": 0,
                            "ticks": ""
                          }
                        },
                        "type": "scatterternary"
                      }
                    ],
                    "surface": [
                      {
                        "colorbar": {
                          "outlinewidth": 0,
                          "ticks": ""
                        },
                        "colorscale": [
                          [
                            0,
                            "#0d0887"
                          ],
                          [
                            0.1111111111111111,
                            "#46039f"
                          ],
                          [
                            0.2222222222222222,
                            "#7201a8"
                          ],
                          [
                            0.3333333333333333,
                            "#9c179e"
                          ],
                          [
                            0.4444444444444444,
                            "#bd3786"
                          ],
                          [
                            0.5555555555555556,
                            "#d8576b"
                          ],
                          [
                            0.6666666666666666,
                            "#ed7953"
                          ],
                          [
                            0.7777777777777778,
                            "#fb9f3a"
                          ],
                          [
                            0.8888888888888888,
                            "#fdca26"
                          ],
                          [
                            1,
                            "#f0f921"
                          ]
                        ],
                        "type": "surface"
                      }
                    ],
                    "table": [
                      {
                        "cells": {
                          "fill": {
                            "color": "#EBF0F8"
                          },
                          "line": {
                            "color": "white"
                          }
                        },
                        "header": {
                          "fill": {
                            "color": "#C8D4E3"
                          },
                          "line": {
                            "color": "white"
                          }
                        },
                        "type": "table"
                      }
                    ]
                  },
                  "layout": {
                    "annotationdefaults": {
                      "arrowcolor": "#2a3f5f",
                      "arrowhead": 0,
                      "arrowwidth": 1
                    },
                    "autotypenumbers": "strict",
                    "coloraxis": {
                      "colorbar": {
                        "outlinewidth": 0,
                        "ticks": ""
                      }
                    },
                    "colorscale": {
                      "diverging": [
                        [
                          0,
                          "#8e0152"
                        ],
                        [
                          0.1,
                          "#c51b7d"
                        ],
                        [
                          0.2,
                          "#de77ae"
                        ],
                        [
                          0.3,
                          "#f1b6da"
                        ],
                        [
                          0.4,
                          "#fde0ef"
                        ],
                        [
                          0.5,
                          "#f7f7f7"
                        ],
                        [
                          0.6,
                          "#e6f5d0"
                        ],
                        [
                          0.7,
                          "#b8e186"
                        ],
                        [
                          0.8,
                          "#7fbc41"
                        ],
                        [
                          0.9,
                          "#4d9221"
                        ],
                        [
                          1,
                          "#276419"
                        ]
                      ],
                      "sequential": [
                        [
                          0,
                          "#0d0887"
                        ],
                        [
                          0.1111111111111111,
                          "#46039f"
                        ],
                        [
                          0.2222222222222222,
                          "#7201a8"
                        ],
                        [
                          0.3333333333333333,
                          "#9c179e"
                        ],
                        [
                          0.4444444444444444,
                          "#bd3786"
                        ],
                        [
                          0.5555555555555556,
                          "#d8576b"
                        ],
                        [
                          0.6666666666666666,
                          "#ed7953"
                        ],
                        [
                          0.7777777777777778,
                          "#fb9f3a"
                        ],
                        [
                          0.8888888888888888,
                          "#fdca26"
                        ],
                        [
                          1,
                          "#f0f921"
                        ]
                      ],
                      "sequentialminus": [
                        [
                          0,
                          "#0d0887"
                        ],
                        [
                          0.1111111111111111,
                          "#46039f"
                        ],
                        [
                          0.2222222222222222,
                          "#7201a8"
                        ],
                        [
                          0.3333333333333333,
                          "#9c179e"
                        ],
                        [
                          0.4444444444444444,
                          "#bd3786"
                        ],
                        [
                          0.5555555555555556,
                          "#d8576b"
                        ],
                        [
                          0.6666666666666666,
                          "#ed7953"
                        ],
                        [
                          0.7777777777777778,
                          "#fb9f3a"
                        ],
                        [
                          0.8888888888888888,
                          "#fdca26"
                        ],
                        [
                          1,
                          "#f0f921"
                        ]
                      ]
                    },
                    "colorway": [
                      "#636efa",
                      "#EF553B",
                      "#00cc96",
                      "#ab63fa",
                      "#FFA15A",
                      "#19d3f3",
                      "#FF6692",
                      "#B6E880",
                      "#FF97FF",
                      "#FECB52"
                    ],
                    "font": {
                      "color": "#2a3f5f"
                    },
                    "geo": {
                      "bgcolor": "white",
                      "lakecolor": "white",
                      "landcolor": "#E5ECF6",
                      "showlakes": true,
                      "showland": true,
                      "subunitcolor": "white"
                    },
                    "hoverlabel": {
                      "align": "left"
                    },
                    "hovermode": "closest",
                    "mapbox": {
                      "style": "light"
                    },
                    "paper_bgcolor": "white",
                    "plot_bgcolor": "#E5ECF6",
                    "polar": {
                      "angularaxis": {
                        "gridcolor": "white",
                        "linecolor": "white",
                        "ticks": ""
                      },
                      "bgcolor": "#E5ECF6",
                      "radialaxis": {
                        "gridcolor": "white",
                        "linecolor": "white",
                        "ticks": ""
                      }
                    },
                    "scene": {
                      "xaxis": {
                        "backgroundcolor": "#E5ECF6",
                        "gridcolor": "white",
                        "gridwidth": 2,
                        "linecolor": "white",
                        "showbackground": true,
                        "ticks": "",
                        "zerolinecolor": "white"
                      },
                      "yaxis": {
                        "backgroundcolor": "#E5ECF6",
                        "gridcolor": "white",
                        "gridwidth": 2,
                        "linecolor": "white",
                        "showbackground": true,
                        "ticks": "",
                        "zerolinecolor": "white"
                      },
                      "zaxis": {
                        "backgroundcolor": "#E5ECF6",
                        "gridcolor": "white",
                        "gridwidth": 2,
                        "linecolor": "white",
                        "showbackground": true,
                        "ticks": "",
                        "zerolinecolor": "white"
                      }
                    },
                    "shapedefaults": {
                      "line": {
                        "color": "#2a3f5f"
                      }
                    },
                    "ternary": {
                      "aaxis": {
                        "gridcolor": "white",
                        "linecolor": "white",
                        "ticks": ""
                      },
                      "baxis": {
                        "gridcolor": "white",
                        "linecolor": "white",
                        "ticks": ""
                      },
                      "bgcolor": "#E5ECF6",
                      "caxis": {
                        "gridcolor": "white",
                        "linecolor": "white",
                        "ticks": ""
                      }
                    },
                    "title": {
                      "x": 0.05
                    },
                    "xaxis": {
                      "automargin": true,
                      "gridcolor": "white",
                      "linecolor": "white",
                      "ticks": "",
                      "title": {
                        "standoff": 15
                      },
                      "zerolinecolor": "white",
                      "zerolinewidth": 2
                    },
                    "yaxis": {
                      "automargin": true,
                      "gridcolor": "white",
                      "linecolor": "white",
                      "ticks": "",
                      "title": {
                        "standoff": 15
                      },
                      "zerolinecolor": "white",
                      "zerolinewidth": 2
                    }
                  }
                },
                "title": {
                  "text": "Distribution de MonthlyCharges selon le churn"
                },
                "xaxis": {
                  "anchor": "y",
                  "domain": [
                    0,
                    1
                  ],
                  "title": {
                    "text": "MonthlyCharges"
                  }
                },
                "yaxis": {
                  "anchor": "x",
                  "domain": [
                    0,
                    1
                  ],
                  "title": {
                    "text": "Effectif"
                  }
                }
              }
            }
          },
          "metadata": {},
          "output_type": "display_data"
        }
      ],
      "source": [
        "# Répartition de la cible\n",
        "target_counts = df['Churn'].value_counts().rename({0: 'No', 1: 'Yes'})\n",
        "fig = px.bar(target_counts, title='Répartition de la cible (Churn)')\n",
        "fig.update_layout(xaxis_title='Churn', yaxis_title='Effectif')\n",
        "fig.show()\n",
        "\n",
        "# Distributions par rapport à la cible\n",
        "fig2 = px.histogram(df, x='tenure', color='Churn', nbins=40, barmode='overlay',\n",
        "                   title='Distribution de tenure selon le churn')\n",
        "fig2.update_layout(xaxis_title='Tenure (mois)', yaxis_title='Effectif')\n",
        "fig2.show()\n",
        "\n",
        "fig3 = px.histogram(df, x='MonthlyCharges', color='Churn', nbins=40, barmode='overlay',\n",
        "                   title='Distribution de MonthlyCharges selon le churn')\n",
        "fig3.update_layout(xaxis_title='MonthlyCharges', yaxis_title='Effectif')\n",
        "fig3.show()\n"
      ]
    },
    {
      "cell_type": "markdown",
      "id": "f6044546",
      "metadata": {},
      "source": [
        "Ce qu'il faut retenir :\n",
        "- déséquilibre de classes (beaucoup plus de clients qui ne churnent pas).\n",
        "- les clients avec des frais mensuels élevés churnent plus.\n",
        "- les clients récents churnent beaucoup plus"
      ]
    },
    {
      "cell_type": "markdown",
      "metadata": {},
      "source": [
        "## 3. Chargement du modèle et du jeu de test\n",
        "Le modèle a été entraîné via `train.py` (pipeline scikit-learn + XGBoost + OneHotEncoder/StandardScaler).\n",
        "Le jeu de test sauvegardé permet de calculer des métriques stables et comparables.\n"
      ]
    },
    {
      "cell_type": "code",
      "execution_count": 5,
      "metadata": {},
      "outputs": [
        {
          "name": "stderr",
          "output_type": "stream",
          "text": [
            "c:\\Users\\cgamb\\AppData\\Local\\Programs\\Python\\Python313\\Lib\\site-packages\\sklearn\\base.py:440: InconsistentVersionWarning:\n",
            "\n",
            "Trying to unpickle estimator StandardScaler from version 1.7.2 when using version 1.7.0. This might lead to breaking code or invalid results. Use at your own risk. For more info please refer to:\n",
            "https://scikit-learn.org/stable/model_persistence.html#security-maintainability-limitations\n",
            "\n",
            "c:\\Users\\cgamb\\AppData\\Local\\Programs\\Python\\Python313\\Lib\\site-packages\\sklearn\\base.py:440: InconsistentVersionWarning:\n",
            "\n",
            "Trying to unpickle estimator OneHotEncoder from version 1.7.2 when using version 1.7.0. This might lead to breaking code or invalid results. Use at your own risk. For more info please refer to:\n",
            "https://scikit-learn.org/stable/model_persistence.html#security-maintainability-limitations\n",
            "\n",
            "c:\\Users\\cgamb\\AppData\\Local\\Programs\\Python\\Python313\\Lib\\site-packages\\sklearn\\base.py:440: InconsistentVersionWarning:\n",
            "\n",
            "Trying to unpickle estimator ColumnTransformer from version 1.7.2 when using version 1.7.0. This might lead to breaking code or invalid results. Use at your own risk. For more info please refer to:\n",
            "https://scikit-learn.org/stable/model_persistence.html#security-maintainability-limitations\n",
            "\n"
          ]
        },
        {
          "name": "stdout",
          "output_type": "stream",
          "text": [
            "Jeu de test chargé depuis app/model/test_set.csv: (1407, 19)\n"
          ]
        },
        {
          "name": "stderr",
          "output_type": "stream",
          "text": [
            "c:\\Users\\cgamb\\AppData\\Local\\Programs\\Python\\Python313\\Lib\\site-packages\\sklearn\\base.py:440: InconsistentVersionWarning:\n",
            "\n",
            "Trying to unpickle estimator Pipeline from version 1.7.2 when using version 1.7.0. This might lead to breaking code or invalid results. Use at your own risk. For more info please refer to:\n",
            "https://scikit-learn.org/stable/model_persistence.html#security-maintainability-limitations\n",
            "\n"
          ]
        }
      ],
      "source": [
        "# Chargement du modèle entraîné\n",
        "model_path = 'app/model/xgb_churn_pipeline.pkl'\n",
        "if not os.path.exists(model_path):\n",
        "    raise FileNotFoundError('Modèle introuvable: app/model/xgb_churn_pipeline.pkl. Exécutez train.py au préalable.')\n",
        "model = joblib.load(model_path)\n",
        "\n",
        "# Chargement du jeu de test (préféré) ou fallback\n",
        "test_csv = 'app/model/test_set.csv'\n",
        "if os.path.exists(test_csv):\n",
        "    df_test = pd.read_csv(test_csv)\n",
        "    X_test = df_test.drop(columns=['Churn'])\n",
        "    y_test = df_test['Churn']\n",
        "    print('Jeu de test chargé depuis app/model/test_set.csv:', X_test.shape)\n",
        "else:\n",
        "    # Fallback: reconstitution d'un split identique pour permettre l'évaluation\n",
        "    num_features = ['SeniorCitizen', 'tenure', 'MonthlyCharges']\n",
        "    cat_features = ['gender', 'Partner', 'Dependents', 'PhoneService', 'MultipleLines',\n",
        "                     'InternetService', 'OnlineSecurity', 'OnlineBackup', 'DeviceProtection', 'TechSupport',\n",
        "                     'StreamingTV', 'StreamingMovies', 'Contract', 'PaperlessBilling', 'PaymentMethod', 'TotalCharges']\n",
        "    X = df[num_features + cat_features]\n",
        "    y = df['Churn']\n",
        "    X_train, X_test, y_train, y_test = train_test_split(X, y, stratify=y, test_size=0.2, random_state=42)\n",
        "    print('Jeu de test reconstruit via split local:', X_test.shape)\n"
      ]
    },
    {
      "cell_type": "markdown",
      "metadata": {},
      "source": [
        "## 4. Évaluation du modèle\n",
        "On évalue d'abord au **seuil 0.5** (par défaut), puis on analysera l'impact du **seuil de décision** pour répondre au besoin métier (maximiser le rappel ou équilibrer avec la précision).\n"
      ]
    },
    {
      "cell_type": "code",
      "execution_count": 6,
      "metadata": {},
      "outputs": [
        {
          "name": "stdout",
          "output_type": "stream",
          "text": [
            "=== Rapport de classification (seuil = 0.5) ===\n",
            "              precision    recall  f1-score   support\n",
            "\n",
            "           0       0.91      0.68      0.78      1033\n",
            "           1       0.48      0.82      0.61       374\n",
            "\n",
            "    accuracy                           0.72      1407\n",
            "   macro avg       0.70      0.75      0.69      1407\n",
            "weighted avg       0.80      0.72      0.73      1407\n",
            "\n"
          ]
        },
        {
          "data": {
            "application/vnd.plotly.v1+json": {
              "config": {
                "plotlyServerURL": "https://plot.ly"
              },
              "data": [
                {
                  "coloraxis": "coloraxis",
                  "hovertemplate": "Prédit: %{x}<br>Réel: %{y}<br>Effectif: %{z}<extra></extra>",
                  "name": "0",
                  "texttemplate": "%{z}",
                  "type": "heatmap",
                  "x": [
                    "Non-churn",
                    "Churn"
                  ],
                  "xaxis": "x",
                  "y": [
                    "Non-churn",
                    "Churn"
                  ],
                  "yaxis": "y",
                  "z": {
                    "bdata": "wgJHAUUAMQE=",
                    "dtype": "i2",
                    "shape": "2, 2"
                  }
                }
              ],
              "layout": {
                "coloraxis": {
                  "colorbar": {
                    "title": {
                      "text": "Effectif"
                    }
                  },
                  "colorscale": [
                    [
                      0,
                      "rgb(247,251,255)"
                    ],
                    [
                      0.125,
                      "rgb(222,235,247)"
                    ],
                    [
                      0.25,
                      "rgb(198,219,239)"
                    ],
                    [
                      0.375,
                      "rgb(158,202,225)"
                    ],
                    [
                      0.5,
                      "rgb(107,174,214)"
                    ],
                    [
                      0.625,
                      "rgb(66,146,198)"
                    ],
                    [
                      0.75,
                      "rgb(33,113,181)"
                    ],
                    [
                      0.875,
                      "rgb(8,81,156)"
                    ],
                    [
                      1,
                      "rgb(8,48,107)"
                    ]
                  ]
                },
                "template": {
                  "data": {
                    "bar": [
                      {
                        "error_x": {
                          "color": "#2a3f5f"
                        },
                        "error_y": {
                          "color": "#2a3f5f"
                        },
                        "marker": {
                          "line": {
                            "color": "#E5ECF6",
                            "width": 0.5
                          },
                          "pattern": {
                            "fillmode": "overlay",
                            "size": 10,
                            "solidity": 0.2
                          }
                        },
                        "type": "bar"
                      }
                    ],
                    "barpolar": [
                      {
                        "marker": {
                          "line": {
                            "color": "#E5ECF6",
                            "width": 0.5
                          },
                          "pattern": {
                            "fillmode": "overlay",
                            "size": 10,
                            "solidity": 0.2
                          }
                        },
                        "type": "barpolar"
                      }
                    ],
                    "carpet": [
                      {
                        "aaxis": {
                          "endlinecolor": "#2a3f5f",
                          "gridcolor": "white",
                          "linecolor": "white",
                          "minorgridcolor": "white",
                          "startlinecolor": "#2a3f5f"
                        },
                        "baxis": {
                          "endlinecolor": "#2a3f5f",
                          "gridcolor": "white",
                          "linecolor": "white",
                          "minorgridcolor": "white",
                          "startlinecolor": "#2a3f5f"
                        },
                        "type": "carpet"
                      }
                    ],
                    "choropleth": [
                      {
                        "colorbar": {
                          "outlinewidth": 0,
                          "ticks": ""
                        },
                        "type": "choropleth"
                      }
                    ],
                    "contour": [
                      {
                        "colorbar": {
                          "outlinewidth": 0,
                          "ticks": ""
                        },
                        "colorscale": [
                          [
                            0,
                            "#0d0887"
                          ],
                          [
                            0.1111111111111111,
                            "#46039f"
                          ],
                          [
                            0.2222222222222222,
                            "#7201a8"
                          ],
                          [
                            0.3333333333333333,
                            "#9c179e"
                          ],
                          [
                            0.4444444444444444,
                            "#bd3786"
                          ],
                          [
                            0.5555555555555556,
                            "#d8576b"
                          ],
                          [
                            0.6666666666666666,
                            "#ed7953"
                          ],
                          [
                            0.7777777777777778,
                            "#fb9f3a"
                          ],
                          [
                            0.8888888888888888,
                            "#fdca26"
                          ],
                          [
                            1,
                            "#f0f921"
                          ]
                        ],
                        "type": "contour"
                      }
                    ],
                    "contourcarpet": [
                      {
                        "colorbar": {
                          "outlinewidth": 0,
                          "ticks": ""
                        },
                        "type": "contourcarpet"
                      }
                    ],
                    "heatmap": [
                      {
                        "colorbar": {
                          "outlinewidth": 0,
                          "ticks": ""
                        },
                        "colorscale": [
                          [
                            0,
                            "#0d0887"
                          ],
                          [
                            0.1111111111111111,
                            "#46039f"
                          ],
                          [
                            0.2222222222222222,
                            "#7201a8"
                          ],
                          [
                            0.3333333333333333,
                            "#9c179e"
                          ],
                          [
                            0.4444444444444444,
                            "#bd3786"
                          ],
                          [
                            0.5555555555555556,
                            "#d8576b"
                          ],
                          [
                            0.6666666666666666,
                            "#ed7953"
                          ],
                          [
                            0.7777777777777778,
                            "#fb9f3a"
                          ],
                          [
                            0.8888888888888888,
                            "#fdca26"
                          ],
                          [
                            1,
                            "#f0f921"
                          ]
                        ],
                        "type": "heatmap"
                      }
                    ],
                    "histogram": [
                      {
                        "marker": {
                          "pattern": {
                            "fillmode": "overlay",
                            "size": 10,
                            "solidity": 0.2
                          }
                        },
                        "type": "histogram"
                      }
                    ],
                    "histogram2d": [
                      {
                        "colorbar": {
                          "outlinewidth": 0,
                          "ticks": ""
                        },
                        "colorscale": [
                          [
                            0,
                            "#0d0887"
                          ],
                          [
                            0.1111111111111111,
                            "#46039f"
                          ],
                          [
                            0.2222222222222222,
                            "#7201a8"
                          ],
                          [
                            0.3333333333333333,
                            "#9c179e"
                          ],
                          [
                            0.4444444444444444,
                            "#bd3786"
                          ],
                          [
                            0.5555555555555556,
                            "#d8576b"
                          ],
                          [
                            0.6666666666666666,
                            "#ed7953"
                          ],
                          [
                            0.7777777777777778,
                            "#fb9f3a"
                          ],
                          [
                            0.8888888888888888,
                            "#fdca26"
                          ],
                          [
                            1,
                            "#f0f921"
                          ]
                        ],
                        "type": "histogram2d"
                      }
                    ],
                    "histogram2dcontour": [
                      {
                        "colorbar": {
                          "outlinewidth": 0,
                          "ticks": ""
                        },
                        "colorscale": [
                          [
                            0,
                            "#0d0887"
                          ],
                          [
                            0.1111111111111111,
                            "#46039f"
                          ],
                          [
                            0.2222222222222222,
                            "#7201a8"
                          ],
                          [
                            0.3333333333333333,
                            "#9c179e"
                          ],
                          [
                            0.4444444444444444,
                            "#bd3786"
                          ],
                          [
                            0.5555555555555556,
                            "#d8576b"
                          ],
                          [
                            0.6666666666666666,
                            "#ed7953"
                          ],
                          [
                            0.7777777777777778,
                            "#fb9f3a"
                          ],
                          [
                            0.8888888888888888,
                            "#fdca26"
                          ],
                          [
                            1,
                            "#f0f921"
                          ]
                        ],
                        "type": "histogram2dcontour"
                      }
                    ],
                    "mesh3d": [
                      {
                        "colorbar": {
                          "outlinewidth": 0,
                          "ticks": ""
                        },
                        "type": "mesh3d"
                      }
                    ],
                    "parcoords": [
                      {
                        "line": {
                          "colorbar": {
                            "outlinewidth": 0,
                            "ticks": ""
                          }
                        },
                        "type": "parcoords"
                      }
                    ],
                    "pie": [
                      {
                        "automargin": true,
                        "type": "pie"
                      }
                    ],
                    "scatter": [
                      {
                        "fillpattern": {
                          "fillmode": "overlay",
                          "size": 10,
                          "solidity": 0.2
                        },
                        "type": "scatter"
                      }
                    ],
                    "scatter3d": [
                      {
                        "line": {
                          "colorbar": {
                            "outlinewidth": 0,
                            "ticks": ""
                          }
                        },
                        "marker": {
                          "colorbar": {
                            "outlinewidth": 0,
                            "ticks": ""
                          }
                        },
                        "type": "scatter3d"
                      }
                    ],
                    "scattercarpet": [
                      {
                        "marker": {
                          "colorbar": {
                            "outlinewidth": 0,
                            "ticks": ""
                          }
                        },
                        "type": "scattercarpet"
                      }
                    ],
                    "scattergeo": [
                      {
                        "marker": {
                          "colorbar": {
                            "outlinewidth": 0,
                            "ticks": ""
                          }
                        },
                        "type": "scattergeo"
                      }
                    ],
                    "scattergl": [
                      {
                        "marker": {
                          "colorbar": {
                            "outlinewidth": 0,
                            "ticks": ""
                          }
                        },
                        "type": "scattergl"
                      }
                    ],
                    "scattermap": [
                      {
                        "marker": {
                          "colorbar": {
                            "outlinewidth": 0,
                            "ticks": ""
                          }
                        },
                        "type": "scattermap"
                      }
                    ],
                    "scattermapbox": [
                      {
                        "marker": {
                          "colorbar": {
                            "outlinewidth": 0,
                            "ticks": ""
                          }
                        },
                        "type": "scattermapbox"
                      }
                    ],
                    "scatterpolar": [
                      {
                        "marker": {
                          "colorbar": {
                            "outlinewidth": 0,
                            "ticks": ""
                          }
                        },
                        "type": "scatterpolar"
                      }
                    ],
                    "scatterpolargl": [
                      {
                        "marker": {
                          "colorbar": {
                            "outlinewidth": 0,
                            "ticks": ""
                          }
                        },
                        "type": "scatterpolargl"
                      }
                    ],
                    "scatterternary": [
                      {
                        "marker": {
                          "colorbar": {
                            "outlinewidth": 0,
                            "ticks": ""
                          }
                        },
                        "type": "scatterternary"
                      }
                    ],
                    "surface": [
                      {
                        "colorbar": {
                          "outlinewidth": 0,
                          "ticks": ""
                        },
                        "colorscale": [
                          [
                            0,
                            "#0d0887"
                          ],
                          [
                            0.1111111111111111,
                            "#46039f"
                          ],
                          [
                            0.2222222222222222,
                            "#7201a8"
                          ],
                          [
                            0.3333333333333333,
                            "#9c179e"
                          ],
                          [
                            0.4444444444444444,
                            "#bd3786"
                          ],
                          [
                            0.5555555555555556,
                            "#d8576b"
                          ],
                          [
                            0.6666666666666666,
                            "#ed7953"
                          ],
                          [
                            0.7777777777777778,
                            "#fb9f3a"
                          ],
                          [
                            0.8888888888888888,
                            "#fdca26"
                          ],
                          [
                            1,
                            "#f0f921"
                          ]
                        ],
                        "type": "surface"
                      }
                    ],
                    "table": [
                      {
                        "cells": {
                          "fill": {
                            "color": "#EBF0F8"
                          },
                          "line": {
                            "color": "white"
                          }
                        },
                        "header": {
                          "fill": {
                            "color": "#C8D4E3"
                          },
                          "line": {
                            "color": "white"
                          }
                        },
                        "type": "table"
                      }
                    ]
                  },
                  "layout": {
                    "annotationdefaults": {
                      "arrowcolor": "#2a3f5f",
                      "arrowhead": 0,
                      "arrowwidth": 1
                    },
                    "autotypenumbers": "strict",
                    "coloraxis": {
                      "colorbar": {
                        "outlinewidth": 0,
                        "ticks": ""
                      }
                    },
                    "colorscale": {
                      "diverging": [
                        [
                          0,
                          "#8e0152"
                        ],
                        [
                          0.1,
                          "#c51b7d"
                        ],
                        [
                          0.2,
                          "#de77ae"
                        ],
                        [
                          0.3,
                          "#f1b6da"
                        ],
                        [
                          0.4,
                          "#fde0ef"
                        ],
                        [
                          0.5,
                          "#f7f7f7"
                        ],
                        [
                          0.6,
                          "#e6f5d0"
                        ],
                        [
                          0.7,
                          "#b8e186"
                        ],
                        [
                          0.8,
                          "#7fbc41"
                        ],
                        [
                          0.9,
                          "#4d9221"
                        ],
                        [
                          1,
                          "#276419"
                        ]
                      ],
                      "sequential": [
                        [
                          0,
                          "#0d0887"
                        ],
                        [
                          0.1111111111111111,
                          "#46039f"
                        ],
                        [
                          0.2222222222222222,
                          "#7201a8"
                        ],
                        [
                          0.3333333333333333,
                          "#9c179e"
                        ],
                        [
                          0.4444444444444444,
                          "#bd3786"
                        ],
                        [
                          0.5555555555555556,
                          "#d8576b"
                        ],
                        [
                          0.6666666666666666,
                          "#ed7953"
                        ],
                        [
                          0.7777777777777778,
                          "#fb9f3a"
                        ],
                        [
                          0.8888888888888888,
                          "#fdca26"
                        ],
                        [
                          1,
                          "#f0f921"
                        ]
                      ],
                      "sequentialminus": [
                        [
                          0,
                          "#0d0887"
                        ],
                        [
                          0.1111111111111111,
                          "#46039f"
                        ],
                        [
                          0.2222222222222222,
                          "#7201a8"
                        ],
                        [
                          0.3333333333333333,
                          "#9c179e"
                        ],
                        [
                          0.4444444444444444,
                          "#bd3786"
                        ],
                        [
                          0.5555555555555556,
                          "#d8576b"
                        ],
                        [
                          0.6666666666666666,
                          "#ed7953"
                        ],
                        [
                          0.7777777777777778,
                          "#fb9f3a"
                        ],
                        [
                          0.8888888888888888,
                          "#fdca26"
                        ],
                        [
                          1,
                          "#f0f921"
                        ]
                      ]
                    },
                    "colorway": [
                      "#636efa",
                      "#EF553B",
                      "#00cc96",
                      "#ab63fa",
                      "#FFA15A",
                      "#19d3f3",
                      "#FF6692",
                      "#B6E880",
                      "#FF97FF",
                      "#FECB52"
                    ],
                    "font": {
                      "color": "#2a3f5f"
                    },
                    "geo": {
                      "bgcolor": "white",
                      "lakecolor": "white",
                      "landcolor": "#E5ECF6",
                      "showlakes": true,
                      "showland": true,
                      "subunitcolor": "white"
                    },
                    "hoverlabel": {
                      "align": "left"
                    },
                    "hovermode": "closest",
                    "mapbox": {
                      "style": "light"
                    },
                    "paper_bgcolor": "white",
                    "plot_bgcolor": "#E5ECF6",
                    "polar": {
                      "angularaxis": {
                        "gridcolor": "white",
                        "linecolor": "white",
                        "ticks": ""
                      },
                      "bgcolor": "#E5ECF6",
                      "radialaxis": {
                        "gridcolor": "white",
                        "linecolor": "white",
                        "ticks": ""
                      }
                    },
                    "scene": {
                      "xaxis": {
                        "backgroundcolor": "#E5ECF6",
                        "gridcolor": "white",
                        "gridwidth": 2,
                        "linecolor": "white",
                        "showbackground": true,
                        "ticks": "",
                        "zerolinecolor": "white"
                      },
                      "yaxis": {
                        "backgroundcolor": "#E5ECF6",
                        "gridcolor": "white",
                        "gridwidth": 2,
                        "linecolor": "white",
                        "showbackground": true,
                        "ticks": "",
                        "zerolinecolor": "white"
                      },
                      "zaxis": {
                        "backgroundcolor": "#E5ECF6",
                        "gridcolor": "white",
                        "gridwidth": 2,
                        "linecolor": "white",
                        "showbackground": true,
                        "ticks": "",
                        "zerolinecolor": "white"
                      }
                    },
                    "shapedefaults": {
                      "line": {
                        "color": "#2a3f5f"
                      }
                    },
                    "ternary": {
                      "aaxis": {
                        "gridcolor": "white",
                        "linecolor": "white",
                        "ticks": ""
                      },
                      "baxis": {
                        "gridcolor": "white",
                        "linecolor": "white",
                        "ticks": ""
                      },
                      "bgcolor": "#E5ECF6",
                      "caxis": {
                        "gridcolor": "white",
                        "linecolor": "white",
                        "ticks": ""
                      }
                    },
                    "title": {
                      "x": 0.05
                    },
                    "xaxis": {
                      "automargin": true,
                      "gridcolor": "white",
                      "linecolor": "white",
                      "ticks": "",
                      "title": {
                        "standoff": 15
                      },
                      "zerolinecolor": "white",
                      "zerolinewidth": 2
                    },
                    "yaxis": {
                      "automargin": true,
                      "gridcolor": "white",
                      "linecolor": "white",
                      "ticks": "",
                      "title": {
                        "standoff": 15
                      },
                      "zerolinecolor": "white",
                      "zerolinewidth": 2
                    }
                  }
                },
                "title": {
                  "text": "Matrice de confusion (seuil = 0.5)"
                },
                "xaxis": {
                  "anchor": "y",
                  "constrain": "domain",
                  "domain": [
                    0,
                    1
                  ],
                  "scaleanchor": "y",
                  "title": {
                    "text": "Prédit"
                  }
                },
                "yaxis": {
                  "anchor": "x",
                  "autorange": "reversed",
                  "constrain": "domain",
                  "domain": [
                    0,
                    1
                  ],
                  "title": {
                    "text": "Réel"
                  }
                }
              }
            }
          },
          "metadata": {},
          "output_type": "display_data"
        }
      ],
      "source": [
        "# Prédictions\n",
        "y_proba = model.predict_proba(X_test)[:, 1]\n",
        "y_pred_default = (y_proba >= 0.5).astype(int)\n",
        "\n",
        "# Rapport de classification\n",
        "print('=== Rapport de classification (seuil = 0.5) ===')\n",
        "print(classification_report(y_test, y_pred_default))\n",
        "\n",
        "# Matrice de confusion — visualisation Plotly\n",
        "cm = confusion_matrix(y_test, y_pred_default)\n",
        "cm_fig = px.imshow(cm, text_auto=True, color_continuous_scale='Blues',\n",
        "                   labels=dict(x='Prédit', y='Réel', color='Effectif'),\n",
        "                   x=['Non-churn', 'Churn'], y=['Non-churn', 'Churn'],\n",
        "                   title='Matrice de confusion (seuil = 0.5)')\n",
        "cm_fig.update_layout(yaxis_autorange='reversed')\n",
        "cm_fig.show()\n"
      ]
    },
    {
      "cell_type": "markdown",
      "metadata": {},
      "source": [
        "### 4.1. Courbe ROC et AUC\n",
        "La courbe ROC mesure la capacité de discrimination du modèle indépendamment d'un seuil. L'AUC proche de 1 indique une bonne séparation entre classes.\n"
      ]
    },
    {
      "cell_type": "code",
      "execution_count": 7,
      "metadata": {},
      "outputs": [
        {
          "data": {
            "application/vnd.plotly.v1+json": {
              "config": {
                "plotlyServerURL": "https://plot.ly"
              },
              "data": [
                {
                  "mode": "lines",
                  "name": "ROC (AUC=0.83)",
                  "type": "scatter",
                  "x": {
                    "bdata": "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",
                    "dtype": "f8"
                  },
                  "y": {
                    "bdata": "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",
                    "dtype": "f8"
                  }
                },
                {
                  "line": {
                    "color": "gray",
                    "dash": "dash"
                  },
                  "mode": "lines",
                  "name": "Aléatoire",
                  "type": "scatter",
                  "x": [
                    0,
                    1
                  ],
                  "y": [
                    0,
                    1
                  ]
                }
              ],
              "layout": {
                "template": {
                  "data": {
                    "bar": [
                      {
                        "error_x": {
                          "color": "#2a3f5f"
                        },
                        "error_y": {
                          "color": "#2a3f5f"
                        },
                        "marker": {
                          "line": {
                            "color": "#E5ECF6",
                            "width": 0.5
                          },
                          "pattern": {
                            "fillmode": "overlay",
                            "size": 10,
                            "solidity": 0.2
                          }
                        },
                        "type": "bar"
                      }
                    ],
                    "barpolar": [
                      {
                        "marker": {
                          "line": {
                            "color": "#E5ECF6",
                            "width": 0.5
                          },
                          "pattern": {
                            "fillmode": "overlay",
                            "size": 10,
                            "solidity": 0.2
                          }
                        },
                        "type": "barpolar"
                      }
                    ],
                    "carpet": [
                      {
                        "aaxis": {
                          "endlinecolor": "#2a3f5f",
                          "gridcolor": "white",
                          "linecolor": "white",
                          "minorgridcolor": "white",
                          "startlinecolor": "#2a3f5f"
                        },
                        "baxis": {
                          "endlinecolor": "#2a3f5f",
                          "gridcolor": "white",
                          "linecolor": "white",
                          "minorgridcolor": "white",
                          "startlinecolor": "#2a3f5f"
                        },
                        "type": "carpet"
                      }
                    ],
                    "choropleth": [
                      {
                        "colorbar": {
                          "outlinewidth": 0,
                          "ticks": ""
                        },
                        "type": "choropleth"
                      }
                    ],
                    "contour": [
                      {
                        "colorbar": {
                          "outlinewidth": 0,
                          "ticks": ""
                        },
                        "colorscale": [
                          [
                            0,
                            "#0d0887"
                          ],
                          [
                            0.1111111111111111,
                            "#46039f"
                          ],
                          [
                            0.2222222222222222,
                            "#7201a8"
                          ],
                          [
                            0.3333333333333333,
                            "#9c179e"
                          ],
                          [
                            0.4444444444444444,
                            "#bd3786"
                          ],
                          [
                            0.5555555555555556,
                            "#d8576b"
                          ],
                          [
                            0.6666666666666666,
                            "#ed7953"
                          ],
                          [
                            0.7777777777777778,
                            "#fb9f3a"
                          ],
                          [
                            0.8888888888888888,
                            "#fdca26"
                          ],
                          [
                            1,
                            "#f0f921"
                          ]
                        ],
                        "type": "contour"
                      }
                    ],
                    "contourcarpet": [
                      {
                        "colorbar": {
                          "outlinewidth": 0,
                          "ticks": ""
                        },
                        "type": "contourcarpet"
                      }
                    ],
                    "heatmap": [
                      {
                        "colorbar": {
                          "outlinewidth": 0,
                          "ticks": ""
                        },
                        "colorscale": [
                          [
                            0,
                            "#0d0887"
                          ],
                          [
                            0.1111111111111111,
                            "#46039f"
                          ],
                          [
                            0.2222222222222222,
                            "#7201a8"
                          ],
                          [
                            0.3333333333333333,
                            "#9c179e"
                          ],
                          [
                            0.4444444444444444,
                            "#bd3786"
                          ],
                          [
                            0.5555555555555556,
                            "#d8576b"
                          ],
                          [
                            0.6666666666666666,
                            "#ed7953"
                          ],
                          [
                            0.7777777777777778,
                            "#fb9f3a"
                          ],
                          [
                            0.8888888888888888,
                            "#fdca26"
                          ],
                          [
                            1,
                            "#f0f921"
                          ]
                        ],
                        "type": "heatmap"
                      }
                    ],
                    "histogram": [
                      {
                        "marker": {
                          "pattern": {
                            "fillmode": "overlay",
                            "size": 10,
                            "solidity": 0.2
                          }
                        },
                        "type": "histogram"
                      }
                    ],
                    "histogram2d": [
                      {
                        "colorbar": {
                          "outlinewidth": 0,
                          "ticks": ""
                        },
                        "colorscale": [
                          [
                            0,
                            "#0d0887"
                          ],
                          [
                            0.1111111111111111,
                            "#46039f"
                          ],
                          [
                            0.2222222222222222,
                            "#7201a8"
                          ],
                          [
                            0.3333333333333333,
                            "#9c179e"
                          ],
                          [
                            0.4444444444444444,
                            "#bd3786"
                          ],
                          [
                            0.5555555555555556,
                            "#d8576b"
                          ],
                          [
                            0.6666666666666666,
                            "#ed7953"
                          ],
                          [
                            0.7777777777777778,
                            "#fb9f3a"
                          ],
                          [
                            0.8888888888888888,
                            "#fdca26"
                          ],
                          [
                            1,
                            "#f0f921"
                          ]
                        ],
                        "type": "histogram2d"
                      }
                    ],
                    "histogram2dcontour": [
                      {
                        "colorbar": {
                          "outlinewidth": 0,
                          "ticks": ""
                        },
                        "colorscale": [
                          [
                            0,
                            "#0d0887"
                          ],
                          [
                            0.1111111111111111,
                            "#46039f"
                          ],
                          [
                            0.2222222222222222,
                            "#7201a8"
                          ],
                          [
                            0.3333333333333333,
                            "#9c179e"
                          ],
                          [
                            0.4444444444444444,
                            "#bd3786"
                          ],
                          [
                            0.5555555555555556,
                            "#d8576b"
                          ],
                          [
                            0.6666666666666666,
                            "#ed7953"
                          ],
                          [
                            0.7777777777777778,
                            "#fb9f3a"
                          ],
                          [
                            0.8888888888888888,
                            "#fdca26"
                          ],
                          [
                            1,
                            "#f0f921"
                          ]
                        ],
                        "type": "histogram2dcontour"
                      }
                    ],
                    "mesh3d": [
                      {
                        "colorbar": {
                          "outlinewidth": 0,
                          "ticks": ""
                        },
                        "type": "mesh3d"
                      }
                    ],
                    "parcoords": [
                      {
                        "line": {
                          "colorbar": {
                            "outlinewidth": 0,
                            "ticks": ""
                          }
                        },
                        "type": "parcoords"
                      }
                    ],
                    "pie": [
                      {
                        "automargin": true,
                        "type": "pie"
                      }
                    ],
                    "scatter": [
                      {
                        "fillpattern": {
                          "fillmode": "overlay",
                          "size": 10,
                          "solidity": 0.2
                        },
                        "type": "scatter"
                      }
                    ],
                    "scatter3d": [
                      {
                        "line": {
                          "colorbar": {
                            "outlinewidth": 0,
                            "ticks": ""
                          }
                        },
                        "marker": {
                          "colorbar": {
                            "outlinewidth": 0,
                            "ticks": ""
                          }
                        },
                        "type": "scatter3d"
                      }
                    ],
                    "scattercarpet": [
                      {
                        "marker": {
                          "colorbar": {
                            "outlinewidth": 0,
                            "ticks": ""
                          }
                        },
                        "type": "scattercarpet"
                      }
                    ],
                    "scattergeo": [
                      {
                        "marker": {
                          "colorbar": {
                            "outlinewidth": 0,
                            "ticks": ""
                          }
                        },
                        "type": "scattergeo"
                      }
                    ],
                    "scattergl": [
                      {
                        "marker": {
                          "colorbar": {
                            "outlinewidth": 0,
                            "ticks": ""
                          }
                        },
                        "type": "scattergl"
                      }
                    ],
                    "scattermap": [
                      {
                        "marker": {
                          "colorbar": {
                            "outlinewidth": 0,
                            "ticks": ""
                          }
                        },
                        "type": "scattermap"
                      }
                    ],
                    "scattermapbox": [
                      {
                        "marker": {
                          "colorbar": {
                            "outlinewidth": 0,
                            "ticks": ""
                          }
                        },
                        "type": "scattermapbox"
                      }
                    ],
                    "scatterpolar": [
                      {
                        "marker": {
                          "colorbar": {
                            "outlinewidth": 0,
                            "ticks": ""
                          }
                        },
                        "type": "scatterpolar"
                      }
                    ],
                    "scatterpolargl": [
                      {
                        "marker": {
                          "colorbar": {
                            "outlinewidth": 0,
                            "ticks": ""
                          }
                        },
                        "type": "scatterpolargl"
                      }
                    ],
                    "scatterternary": [
                      {
                        "marker": {
                          "colorbar": {
                            "outlinewidth": 0,
                            "ticks": ""
                          }
                        },
                        "type": "scatterternary"
                      }
                    ],
                    "surface": [
                      {
                        "colorbar": {
                          "outlinewidth": 0,
                          "ticks": ""
                        },
                        "colorscale": [
                          [
                            0,
                            "#0d0887"
                          ],
                          [
                            0.1111111111111111,
                            "#46039f"
                          ],
                          [
                            0.2222222222222222,
                            "#7201a8"
                          ],
                          [
                            0.3333333333333333,
                            "#9c179e"
                          ],
                          [
                            0.4444444444444444,
                            "#bd3786"
                          ],
                          [
                            0.5555555555555556,
                            "#d8576b"
                          ],
                          [
                            0.6666666666666666,
                            "#ed7953"
                          ],
                          [
                            0.7777777777777778,
                            "#fb9f3a"
                          ],
                          [
                            0.8888888888888888,
                            "#fdca26"
                          ],
                          [
                            1,
                            "#f0f921"
                          ]
                        ],
                        "type": "surface"
                      }
                    ],
                    "table": [
                      {
                        "cells": {
                          "fill": {
                            "color": "#EBF0F8"
                          },
                          "line": {
                            "color": "white"
                          }
                        },
                        "header": {
                          "fill": {
                            "color": "#C8D4E3"
                          },
                          "line": {
                            "color": "white"
                          }
                        },
                        "type": "table"
                      }
                    ]
                  },
                  "layout": {
                    "annotationdefaults": {
                      "arrowcolor": "#2a3f5f",
                      "arrowhead": 0,
                      "arrowwidth": 1
                    },
                    "autotypenumbers": "strict",
                    "coloraxis": {
                      "colorbar": {
                        "outlinewidth": 0,
                        "ticks": ""
                      }
                    },
                    "colorscale": {
                      "diverging": [
                        [
                          0,
                          "#8e0152"
                        ],
                        [
                          0.1,
                          "#c51b7d"
                        ],
                        [
                          0.2,
                          "#de77ae"
                        ],
                        [
                          0.3,
                          "#f1b6da"
                        ],
                        [
                          0.4,
                          "#fde0ef"
                        ],
                        [
                          0.5,
                          "#f7f7f7"
                        ],
                        [
                          0.6,
                          "#e6f5d0"
                        ],
                        [
                          0.7,
                          "#b8e186"
                        ],
                        [
                          0.8,
                          "#7fbc41"
                        ],
                        [
                          0.9,
                          "#4d9221"
                        ],
                        [
                          1,
                          "#276419"
                        ]
                      ],
                      "sequential": [
                        [
                          0,
                          "#0d0887"
                        ],
                        [
                          0.1111111111111111,
                          "#46039f"
                        ],
                        [
                          0.2222222222222222,
                          "#7201a8"
                        ],
                        [
                          0.3333333333333333,
                          "#9c179e"
                        ],
                        [
                          0.4444444444444444,
                          "#bd3786"
                        ],
                        [
                          0.5555555555555556,
                          "#d8576b"
                        ],
                        [
                          0.6666666666666666,
                          "#ed7953"
                        ],
                        [
                          0.7777777777777778,
                          "#fb9f3a"
                        ],
                        [
                          0.8888888888888888,
                          "#fdca26"
                        ],
                        [
                          1,
                          "#f0f921"
                        ]
                      ],
                      "sequentialminus": [
                        [
                          0,
                          "#0d0887"
                        ],
                        [
                          0.1111111111111111,
                          "#46039f"
                        ],
                        [
                          0.2222222222222222,
                          "#7201a8"
                        ],
                        [
                          0.3333333333333333,
                          "#9c179e"
                        ],
                        [
                          0.4444444444444444,
                          "#bd3786"
                        ],
                        [
                          0.5555555555555556,
                          "#d8576b"
                        ],
                        [
                          0.6666666666666666,
                          "#ed7953"
                        ],
                        [
                          0.7777777777777778,
                          "#fb9f3a"
                        ],
                        [
                          0.8888888888888888,
                          "#fdca26"
                        ],
                        [
                          1,
                          "#f0f921"
                        ]
                      ]
                    },
                    "colorway": [
                      "#636efa",
                      "#EF553B",
                      "#00cc96",
                      "#ab63fa",
                      "#FFA15A",
                      "#19d3f3",
                      "#FF6692",
                      "#B6E880",
                      "#FF97FF",
                      "#FECB52"
                    ],
                    "font": {
                      "color": "#2a3f5f"
                    },
                    "geo": {
                      "bgcolor": "white",
                      "lakecolor": "white",
                      "landcolor": "#E5ECF6",
                      "showlakes": true,
                      "showland": true,
                      "subunitcolor": "white"
                    },
                    "hoverlabel": {
                      "align": "left"
                    },
                    "hovermode": "closest",
                    "mapbox": {
                      "style": "light"
                    },
                    "paper_bgcolor": "white",
                    "plot_bgcolor": "#E5ECF6",
                    "polar": {
                      "angularaxis": {
                        "gridcolor": "white",
                        "linecolor": "white",
                        "ticks": ""
                      },
                      "bgcolor": "#E5ECF6",
                      "radialaxis": {
                        "gridcolor": "white",
                        "linecolor": "white",
                        "ticks": ""
                      }
                    },
                    "scene": {
                      "xaxis": {
                        "backgroundcolor": "#E5ECF6",
                        "gridcolor": "white",
                        "gridwidth": 2,
                        "linecolor": "white",
                        "showbackground": true,
                        "ticks": "",
                        "zerolinecolor": "white"
                      },
                      "yaxis": {
                        "backgroundcolor": "#E5ECF6",
                        "gridcolor": "white",
                        "gridwidth": 2,
                        "linecolor": "white",
                        "showbackground": true,
                        "ticks": "",
                        "zerolinecolor": "white"
                      },
                      "zaxis": {
                        "backgroundcolor": "#E5ECF6",
                        "gridcolor": "white",
                        "gridwidth": 2,
                        "linecolor": "white",
                        "showbackground": true,
                        "ticks": "",
                        "zerolinecolor": "white"
                      }
                    },
                    "shapedefaults": {
                      "line": {
                        "color": "#2a3f5f"
                      }
                    },
                    "ternary": {
                      "aaxis": {
                        "gridcolor": "white",
                        "linecolor": "white",
                        "ticks": ""
                      },
                      "baxis": {
                        "gridcolor": "white",
                        "linecolor": "white",
                        "ticks": ""
                      },
                      "bgcolor": "#E5ECF6",
                      "caxis": {
                        "gridcolor": "white",
                        "linecolor": "white",
                        "ticks": ""
                      }
                    },
                    "title": {
                      "x": 0.05
                    },
                    "xaxis": {
                      "automargin": true,
                      "gridcolor": "white",
                      "linecolor": "white",
                      "ticks": "",
                      "title": {
                        "standoff": 15
                      },
                      "zerolinecolor": "white",
                      "zerolinewidth": 2
                    },
                    "yaxis": {
                      "automargin": true,
                      "gridcolor": "white",
                      "linecolor": "white",
                      "ticks": "",
                      "title": {
                        "standoff": 15
                      },
                      "zerolinecolor": "white",
                      "zerolinewidth": 2
                    }
                  }
                },
                "title": {
                  "text": "Courbe ROC"
                },
                "xaxis": {
                  "title": {
                    "text": "Taux de faux positifs (FPR)"
                  }
                },
                "yaxis": {
                  "title": {
                    "text": "Taux de vrais positifs (TPR)"
                  }
                }
              }
            }
          },
          "metadata": {},
          "output_type": "display_data"
        }
      ],
      "source": [
        "fpr, tpr, _ = roc_curve(y_test, y_proba)\n",
        "roc_auc = auc(fpr, tpr)\n",
        "roc_fig = go.Figure()\n",
        "roc_fig.add_trace(go.Scatter(x=fpr, y=tpr, mode='lines', name=f'ROC (AUC={roc_auc:.2f})'))\n",
        "roc_fig.add_trace(go.Scatter(x=[0,1], y=[0,1], mode='lines', name='Aléatoire', line=dict(dash='dash', color='gray')))\n",
        "roc_fig.update_layout(title='Courbe ROC', xaxis_title='Taux de faux positifs (FPR)', yaxis_title='Taux de vrais positifs (TPR)')\n",
        "roc_fig.show()\n"
      ]
    },
    {
      "cell_type": "markdown",
      "metadata": {},
      "source": [
        "## 5. Analyse du seuil de décision\n",
        "Selon le besoin métier, on peut **maximiser le rappel** (identifier le plus de churners) ou **équilibrer précision/rappel**.\n",
        "Nous explorons différents seuils pour observer l'impact sur précision, rappel et F1.\n"
      ]
    },
    {
      "cell_type": "code",
      "execution_count": 8,
      "metadata": {},
      "outputs": [
        {
          "name": "stderr",
          "output_type": "stream",
          "text": [
            "c:\\Users\\cgamb\\AppData\\Local\\Programs\\Python\\Python313\\Lib\\site-packages\\sklearn\\metrics\\_classification.py:1706: UndefinedMetricWarning:\n",
            "\n",
            "Precision is ill-defined and being set to 0.0 due to no predicted samples. Use `zero_division` parameter to control this behavior.\n",
            "\n",
            "c:\\Users\\cgamb\\AppData\\Local\\Programs\\Python\\Python313\\Lib\\site-packages\\sklearn\\metrics\\_classification.py:1706: UndefinedMetricWarning:\n",
            "\n",
            "Precision is ill-defined and being set to 0.0 due to no predicted samples. Use `zero_division` parameter to control this behavior.\n",
            "\n",
            "c:\\Users\\cgamb\\AppData\\Local\\Programs\\Python\\Python313\\Lib\\site-packages\\sklearn\\metrics\\_classification.py:1706: UndefinedMetricWarning:\n",
            "\n",
            "Precision is ill-defined and being set to 0.0 due to no predicted samples. Use `zero_division` parameter to control this behavior.\n",
            "\n",
            "c:\\Users\\cgamb\\AppData\\Local\\Programs\\Python\\Python313\\Lib\\site-packages\\sklearn\\metrics\\_classification.py:1706: UndefinedMetricWarning:\n",
            "\n",
            "Precision is ill-defined and being set to 0.0 due to no predicted samples. Use `zero_division` parameter to control this behavior.\n",
            "\n"
          ]
        },
        {
          "data": {
            "application/vnd.plotly.v1+json": {
              "config": {
                "plotlyServerURL": "https://plot.ly"
              },
              "data": [
                {
                  "mode": "lines+markers",
                  "name": "Precision",
                  "type": "scatter",
                  "x": {
                    "bdata": "mpmZmZmZuT8zMzMzMzPDP5qZmZmZmck/AAAAAAAA0D8zMzMzMzPTP2ZmZmZmZtY/mpmZmZmZ2T/NzMzMzMzcPwAAAAAAAOA/mpmZmZmZ4T8zMzMzMzPjP83MzMzMzOQ/ZmZmZmZm5j8AAAAAAADoP5qZmZmZmek/MzMzMzMz6z/NzMzMzMzsPw==",
                    "dtype": "f8"
                  },
                  "y": {
                    "bdata": "mcfJ1RcD0T+Zx8nVFwPRP5nHydUXA9E/wQ2hVX+h1D/qrd+ET0fXP7PD1OX2B9k/ndIGt8mo2T8gXyRKjT3cP8ZNmN/V4t4/iRIlSpQo4T/kHDlHzpHjP/Yck/Uck+U/DeU1lNdQ5j8AAAAAAAAAAAAAAAAAAAAAAAAAAAAAAAAAAAAAAAAAAA==",
                    "dtype": "f8"
                  }
                },
                {
                  "mode": "lines+markers",
                  "name": "Recall",
                  "type": "scatter",
                  "x": {
                    "bdata": "mpmZmZmZuT8zMzMzMzPDP5qZmZmZmck/AAAAAAAA0D8zMzMzMzPTP2ZmZmZmZtY/mpmZmZmZ2T/NzMzMzMzcPwAAAAAAAOA/mpmZmZmZ4T8zMzMzMzPjP83MzMzMzOQ/ZmZmZmZm5j8AAAAAAADoP5qZmZmZmek/MzMzMzMz6z/NzMzMzMzsPw==",
                    "dtype": "f8"
                  },
                  "y": {
                    "bdata": "AAAAAAAA8D8AAAAAAADwPwAAAAAAAPA/1F+OSDHU7z8PDw8PDw/vPx4eHh4eHu4/mz3J97Ga7T+jiy666KLrPxnqL0ekGOo/crfOK6Bx5z/wYzV7ku/jP385IsVQf9k/JFIM9Zcj0j8AAAAAAAAAAAAAAAAAAAAAAAAAAAAAAAAAAAAAAAAAAA==",
                    "dtype": "f8"
                  }
                },
                {
                  "mode": "lines+markers",
                  "name": "F1",
                  "type": "scatter",
                  "x": {
                    "bdata": "mpmZmZmZuT8zMzMzMzPDP5qZmZmZmck/AAAAAAAA0D8zMzMzMzPTP2ZmZmZmZtY/mpmZmZmZ2T/NzMzMzMzcPwAAAAAAAOA/mpmZmZmZ4T8zMzMzMzPjP83MzMzMzOQ/ZmZmZmZm5j8AAAAAAADoP5qZmZmZmek/MzMzMzMz6z/NzMzMzMzsPw==",
                    "dtype": "f8"
                  },
                  "y": {
                    "bdata": "ktFWlBjh2j+S0VaUGOHaP5LRVpQY4do/0Nuku4wp3z8Xhy111e7gP38/isjRruE/41s0d8Dm4T9iZZ3M1rDiPw+uJuxQZ+M/6+HHeY/Q4z/RzRsaQcDjP1DiBlDiBuA/3gRt8G/L2T8AAAAAAAAAAAAAAAAAAAAAAAAAAAAAAAAAAAAAAAAAAA==",
                    "dtype": "f8"
                  }
                }
              ],
              "layout": {
                "shapes": [
                  {
                    "line": {
                      "color": "red",
                      "dash": "dash",
                      "width": 2
                    },
                    "type": "line",
                    "x0": 0.4,
                    "x1": 0.4,
                    "xref": "x",
                    "y0": 0,
                    "y1": 1,
                    "yref": "y domain"
                  }
                ],
                "template": {
                  "data": {
                    "bar": [
                      {
                        "error_x": {
                          "color": "#2a3f5f"
                        },
                        "error_y": {
                          "color": "#2a3f5f"
                        },
                        "marker": {
                          "line": {
                            "color": "#E5ECF6",
                            "width": 0.5
                          },
                          "pattern": {
                            "fillmode": "overlay",
                            "size": 10,
                            "solidity": 0.2
                          }
                        },
                        "type": "bar"
                      }
                    ],
                    "barpolar": [
                      {
                        "marker": {
                          "line": {
                            "color": "#E5ECF6",
                            "width": 0.5
                          },
                          "pattern": {
                            "fillmode": "overlay",
                            "size": 10,
                            "solidity": 0.2
                          }
                        },
                        "type": "barpolar"
                      }
                    ],
                    "carpet": [
                      {
                        "aaxis": {
                          "endlinecolor": "#2a3f5f",
                          "gridcolor": "white",
                          "linecolor": "white",
                          "minorgridcolor": "white",
                          "startlinecolor": "#2a3f5f"
                        },
                        "baxis": {
                          "endlinecolor": "#2a3f5f",
                          "gridcolor": "white",
                          "linecolor": "white",
                          "minorgridcolor": "white",
                          "startlinecolor": "#2a3f5f"
                        },
                        "type": "carpet"
                      }
                    ],
                    "choropleth": [
                      {
                        "colorbar": {
                          "outlinewidth": 0,
                          "ticks": ""
                        },
                        "type": "choropleth"
                      }
                    ],
                    "contour": [
                      {
                        "colorbar": {
                          "outlinewidth": 0,
                          "ticks": ""
                        },
                        "colorscale": [
                          [
                            0,
                            "#0d0887"
                          ],
                          [
                            0.1111111111111111,
                            "#46039f"
                          ],
                          [
                            0.2222222222222222,
                            "#7201a8"
                          ],
                          [
                            0.3333333333333333,
                            "#9c179e"
                          ],
                          [
                            0.4444444444444444,
                            "#bd3786"
                          ],
                          [
                            0.5555555555555556,
                            "#d8576b"
                          ],
                          [
                            0.6666666666666666,
                            "#ed7953"
                          ],
                          [
                            0.7777777777777778,
                            "#fb9f3a"
                          ],
                          [
                            0.8888888888888888,
                            "#fdca26"
                          ],
                          [
                            1,
                            "#f0f921"
                          ]
                        ],
                        "type": "contour"
                      }
                    ],
                    "contourcarpet": [
                      {
                        "colorbar": {
                          "outlinewidth": 0,
                          "ticks": ""
                        },
                        "type": "contourcarpet"
                      }
                    ],
                    "heatmap": [
                      {
                        "colorbar": {
                          "outlinewidth": 0,
                          "ticks": ""
                        },
                        "colorscale": [
                          [
                            0,
                            "#0d0887"
                          ],
                          [
                            0.1111111111111111,
                            "#46039f"
                          ],
                          [
                            0.2222222222222222,
                            "#7201a8"
                          ],
                          [
                            0.3333333333333333,
                            "#9c179e"
                          ],
                          [
                            0.4444444444444444,
                            "#bd3786"
                          ],
                          [
                            0.5555555555555556,
                            "#d8576b"
                          ],
                          [
                            0.6666666666666666,
                            "#ed7953"
                          ],
                          [
                            0.7777777777777778,
                            "#fb9f3a"
                          ],
                          [
                            0.8888888888888888,
                            "#fdca26"
                          ],
                          [
                            1,
                            "#f0f921"
                          ]
                        ],
                        "type": "heatmap"
                      }
                    ],
                    "histogram": [
                      {
                        "marker": {
                          "pattern": {
                            "fillmode": "overlay",
                            "size": 10,
                            "solidity": 0.2
                          }
                        },
                        "type": "histogram"
                      }
                    ],
                    "histogram2d": [
                      {
                        "colorbar": {
                          "outlinewidth": 0,
                          "ticks": ""
                        },
                        "colorscale": [
                          [
                            0,
                            "#0d0887"
                          ],
                          [
                            0.1111111111111111,
                            "#46039f"
                          ],
                          [
                            0.2222222222222222,
                            "#7201a8"
                          ],
                          [
                            0.3333333333333333,
                            "#9c179e"
                          ],
                          [
                            0.4444444444444444,
                            "#bd3786"
                          ],
                          [
                            0.5555555555555556,
                            "#d8576b"
                          ],
                          [
                            0.6666666666666666,
                            "#ed7953"
                          ],
                          [
                            0.7777777777777778,
                            "#fb9f3a"
                          ],
                          [
                            0.8888888888888888,
                            "#fdca26"
                          ],
                          [
                            1,
                            "#f0f921"
                          ]
                        ],
                        "type": "histogram2d"
                      }
                    ],
                    "histogram2dcontour": [
                      {
                        "colorbar": {
                          "outlinewidth": 0,
                          "ticks": ""
                        },
                        "colorscale": [
                          [
                            0,
                            "#0d0887"
                          ],
                          [
                            0.1111111111111111,
                            "#46039f"
                          ],
                          [
                            0.2222222222222222,
                            "#7201a8"
                          ],
                          [
                            0.3333333333333333,
                            "#9c179e"
                          ],
                          [
                            0.4444444444444444,
                            "#bd3786"
                          ],
                          [
                            0.5555555555555556,
                            "#d8576b"
                          ],
                          [
                            0.6666666666666666,
                            "#ed7953"
                          ],
                          [
                            0.7777777777777778,
                            "#fb9f3a"
                          ],
                          [
                            0.8888888888888888,
                            "#fdca26"
                          ],
                          [
                            1,
                            "#f0f921"
                          ]
                        ],
                        "type": "histogram2dcontour"
                      }
                    ],
                    "mesh3d": [
                      {
                        "colorbar": {
                          "outlinewidth": 0,
                          "ticks": ""
                        },
                        "type": "mesh3d"
                      }
                    ],
                    "parcoords": [
                      {
                        "line": {
                          "colorbar": {
                            "outlinewidth": 0,
                            "ticks": ""
                          }
                        },
                        "type": "parcoords"
                      }
                    ],
                    "pie": [
                      {
                        "automargin": true,
                        "type": "pie"
                      }
                    ],
                    "scatter": [
                      {
                        "fillpattern": {
                          "fillmode": "overlay",
                          "size": 10,
                          "solidity": 0.2
                        },
                        "type": "scatter"
                      }
                    ],
                    "scatter3d": [
                      {
                        "line": {
                          "colorbar": {
                            "outlinewidth": 0,
                            "ticks": ""
                          }
                        },
                        "marker": {
                          "colorbar": {
                            "outlinewidth": 0,
                            "ticks": ""
                          }
                        },
                        "type": "scatter3d"
                      }
                    ],
                    "scattercarpet": [
                      {
                        "marker": {
                          "colorbar": {
                            "outlinewidth": 0,
                            "ticks": ""
                          }
                        },
                        "type": "scattercarpet"
                      }
                    ],
                    "scattergeo": [
                      {
                        "marker": {
                          "colorbar": {
                            "outlinewidth": 0,
                            "ticks": ""
                          }
                        },
                        "type": "scattergeo"
                      }
                    ],
                    "scattergl": [
                      {
                        "marker": {
                          "colorbar": {
                            "outlinewidth": 0,
                            "ticks": ""
                          }
                        },
                        "type": "scattergl"
                      }
                    ],
                    "scattermap": [
                      {
                        "marker": {
                          "colorbar": {
                            "outlinewidth": 0,
                            "ticks": ""
                          }
                        },
                        "type": "scattermap"
                      }
                    ],
                    "scattermapbox": [
                      {
                        "marker": {
                          "colorbar": {
                            "outlinewidth": 0,
                            "ticks": ""
                          }
                        },
                        "type": "scattermapbox"
                      }
                    ],
                    "scatterpolar": [
                      {
                        "marker": {
                          "colorbar": {
                            "outlinewidth": 0,
                            "ticks": ""
                          }
                        },
                        "type": "scatterpolar"
                      }
                    ],
                    "scatterpolargl": [
                      {
                        "marker": {
                          "colorbar": {
                            "outlinewidth": 0,
                            "ticks": ""
                          }
                        },
                        "type": "scatterpolargl"
                      }
                    ],
                    "scatterternary": [
                      {
                        "marker": {
                          "colorbar": {
                            "outlinewidth": 0,
                            "ticks": ""
                          }
                        },
                        "type": "scatterternary"
                      }
                    ],
                    "surface": [
                      {
                        "colorbar": {
                          "outlinewidth": 0,
                          "ticks": ""
                        },
                        "colorscale": [
                          [
                            0,
                            "#0d0887"
                          ],
                          [
                            0.1111111111111111,
                            "#46039f"
                          ],
                          [
                            0.2222222222222222,
                            "#7201a8"
                          ],
                          [
                            0.3333333333333333,
                            "#9c179e"
                          ],
                          [
                            0.4444444444444444,
                            "#bd3786"
                          ],
                          [
                            0.5555555555555556,
                            "#d8576b"
                          ],
                          [
                            0.6666666666666666,
                            "#ed7953"
                          ],
                          [
                            0.7777777777777778,
                            "#fb9f3a"
                          ],
                          [
                            0.8888888888888888,
                            "#fdca26"
                          ],
                          [
                            1,
                            "#f0f921"
                          ]
                        ],
                        "type": "surface"
                      }
                    ],
                    "table": [
                      {
                        "cells": {
                          "fill": {
                            "color": "#EBF0F8"
                          },
                          "line": {
                            "color": "white"
                          }
                        },
                        "header": {
                          "fill": {
                            "color": "#C8D4E3"
                          },
                          "line": {
                            "color": "white"
                          }
                        },
                        "type": "table"
                      }
                    ]
                  },
                  "layout": {
                    "annotationdefaults": {
                      "arrowcolor": "#2a3f5f",
                      "arrowhead": 0,
                      "arrowwidth": 1
                    },
                    "autotypenumbers": "strict",
                    "coloraxis": {
                      "colorbar": {
                        "outlinewidth": 0,
                        "ticks": ""
                      }
                    },
                    "colorscale": {
                      "diverging": [
                        [
                          0,
                          "#8e0152"
                        ],
                        [
                          0.1,
                          "#c51b7d"
                        ],
                        [
                          0.2,
                          "#de77ae"
                        ],
                        [
                          0.3,
                          "#f1b6da"
                        ],
                        [
                          0.4,
                          "#fde0ef"
                        ],
                        [
                          0.5,
                          "#f7f7f7"
                        ],
                        [
                          0.6,
                          "#e6f5d0"
                        ],
                        [
                          0.7,
                          "#b8e186"
                        ],
                        [
                          0.8,
                          "#7fbc41"
                        ],
                        [
                          0.9,
                          "#4d9221"
                        ],
                        [
                          1,
                          "#276419"
                        ]
                      ],
                      "sequential": [
                        [
                          0,
                          "#0d0887"
                        ],
                        [
                          0.1111111111111111,
                          "#46039f"
                        ],
                        [
                          0.2222222222222222,
                          "#7201a8"
                        ],
                        [
                          0.3333333333333333,
                          "#9c179e"
                        ],
                        [
                          0.4444444444444444,
                          "#bd3786"
                        ],
                        [
                          0.5555555555555556,
                          "#d8576b"
                        ],
                        [
                          0.6666666666666666,
                          "#ed7953"
                        ],
                        [
                          0.7777777777777778,
                          "#fb9f3a"
                        ],
                        [
                          0.8888888888888888,
                          "#fdca26"
                        ],
                        [
                          1,
                          "#f0f921"
                        ]
                      ],
                      "sequentialminus": [
                        [
                          0,
                          "#0d0887"
                        ],
                        [
                          0.1111111111111111,
                          "#46039f"
                        ],
                        [
                          0.2222222222222222,
                          "#7201a8"
                        ],
                        [
                          0.3333333333333333,
                          "#9c179e"
                        ],
                        [
                          0.4444444444444444,
                          "#bd3786"
                        ],
                        [
                          0.5555555555555556,
                          "#d8576b"
                        ],
                        [
                          0.6666666666666666,
                          "#ed7953"
                        ],
                        [
                          0.7777777777777778,
                          "#fb9f3a"
                        ],
                        [
                          0.8888888888888888,
                          "#fdca26"
                        ],
                        [
                          1,
                          "#f0f921"
                        ]
                      ]
                    },
                    "colorway": [
                      "#636efa",
                      "#EF553B",
                      "#00cc96",
                      "#ab63fa",
                      "#FFA15A",
                      "#19d3f3",
                      "#FF6692",
                      "#B6E880",
                      "#FF97FF",
                      "#FECB52"
                    ],
                    "font": {
                      "color": "#2a3f5f"
                    },
                    "geo": {
                      "bgcolor": "white",
                      "lakecolor": "white",
                      "landcolor": "#E5ECF6",
                      "showlakes": true,
                      "showland": true,
                      "subunitcolor": "white"
                    },
                    "hoverlabel": {
                      "align": "left"
                    },
                    "hovermode": "closest",
                    "mapbox": {
                      "style": "light"
                    },
                    "paper_bgcolor": "white",
                    "plot_bgcolor": "#E5ECF6",
                    "polar": {
                      "angularaxis": {
                        "gridcolor": "white",
                        "linecolor": "white",
                        "ticks": ""
                      },
                      "bgcolor": "#E5ECF6",
                      "radialaxis": {
                        "gridcolor": "white",
                        "linecolor": "white",
                        "ticks": ""
                      }
                    },
                    "scene": {
                      "xaxis": {
                        "backgroundcolor": "#E5ECF6",
                        "gridcolor": "white",
                        "gridwidth": 2,
                        "linecolor": "white",
                        "showbackground": true,
                        "ticks": "",
                        "zerolinecolor": "white"
                      },
                      "yaxis": {
                        "backgroundcolor": "#E5ECF6",
                        "gridcolor": "white",
                        "gridwidth": 2,
                        "linecolor": "white",
                        "showbackground": true,
                        "ticks": "",
                        "zerolinecolor": "white"
                      },
                      "zaxis": {
                        "backgroundcolor": "#E5ECF6",
                        "gridcolor": "white",
                        "gridwidth": 2,
                        "linecolor": "white",
                        "showbackground": true,
                        "ticks": "",
                        "zerolinecolor": "white"
                      }
                    },
                    "shapedefaults": {
                      "line": {
                        "color": "#2a3f5f"
                      }
                    },
                    "ternary": {
                      "aaxis": {
                        "gridcolor": "white",
                        "linecolor": "white",
                        "ticks": ""
                      },
                      "baxis": {
                        "gridcolor": "white",
                        "linecolor": "white",
                        "ticks": ""
                      },
                      "bgcolor": "#E5ECF6",
                      "caxis": {
                        "gridcolor": "white",
                        "linecolor": "white",
                        "ticks": ""
                      }
                    },
                    "title": {
                      "x": 0.05
                    },
                    "xaxis": {
                      "automargin": true,
                      "gridcolor": "white",
                      "linecolor": "white",
                      "ticks": "",
                      "title": {
                        "standoff": 15
                      },
                      "zerolinecolor": "white",
                      "zerolinewidth": 2
                    },
                    "yaxis": {
                      "automargin": true,
                      "gridcolor": "white",
                      "linecolor": "white",
                      "ticks": "",
                      "title": {
                        "standoff": 15
                      },
                      "zerolinecolor": "white",
                      "zerolinewidth": 2
                    }
                  }
                },
                "title": {
                  "text": "Impact du seuil sur Precision / Recall / F1"
                },
                "xaxis": {
                  "title": {
                    "text": "Seuil"
                  }
                },
                "yaxis": {
                  "title": {
                    "text": "Score"
                  }
                }
              }
            }
          },
          "metadata": {},
          "output_type": "display_data"
        },
        {
          "name": "stdout",
          "output_type": "stream",
          "text": [
            "Meilleur seuil par Recall: {'Seuil': 0.1, 'Precision': 0.2658137882018479, 'Recall': 1.0, 'F1': 0.41998877035373383}\n",
            "Meilleur seuil par F1: {'Seuil': 0.55, 'Precision': 0.5362035225048923, 'Recall': 0.732620320855615, 'F1': 0.6192090395480226}\n",
            "Seuil par défaut recommandé (F1 équilibré): 0.4\n"
          ]
        }
      ],
      "source": [
        "thresholds = np.arange(0.1, 0.91, 0.05)\n",
        "rows = []\n",
        "for t in thresholds:\n",
        "    y_pred_t = (y_proba >= t).astype(int)\n",
        "    precision, recall, f1, _ = precision_recall_fscore_support(y_test, y_pred_t, average='binary')\n",
        "    rows.append({'Seuil': float(f'{t:.2f}'), 'Precision': precision, 'Recall': recall, 'F1': f1})\n",
        "\n",
        "thr_df = pd.DataFrame(rows)\n",
        "thr_fig = go.Figure()\n",
        "thr_fig.add_trace(go.Scatter(x=thr_df['Seuil'], y=thr_df['Precision'], mode='lines+markers', name='Precision'))\n",
        "thr_fig.add_trace(go.Scatter(x=thr_df['Seuil'], y=thr_df['Recall'], mode='lines+markers', name='Recall'))\n",
        "thr_fig.add_trace(go.Scatter(x=thr_df['Seuil'], y=thr_df['F1'], mode='lines+markers', name='F1'))\n",
        "thr_fig.add_vline(x=THRESHOLD_DEFAULT, line_width=2, line_dash='dash', line_color='red')\n",
        "thr_fig.update_layout(title='Impact du seuil sur Precision / Recall / F1', xaxis_title='Seuil', yaxis_title='Score')\n",
        "thr_fig.show()\n",
        "\n",
        "# Seuils optimaux selon les critères\n",
        "best_by_recall = thr_df.sort_values('Recall', ascending=False).iloc[0]\n",
        "best_by_f1 = thr_df.sort_values('F1', ascending=False).iloc[0]\n",
        "print('Meilleur seuil par Recall:', best_by_recall.to_dict())\n",
        "print('Meilleur seuil par F1:', best_by_f1.to_dict())\n",
        "print(f'Seuil par défaut recommandé (F1 équilibré): {THRESHOLD_DEFAULT}')\n"
      ]
    },
    {
      "cell_type": "markdown",
      "metadata": {},
      "source": [
        "## 6. Conclusion\n",
        "- Le modèle XGBoost optimisé atteint un rappel élevé, avec un compromis contrôlé via le seuil.\n",
        "- Le **seuil par défaut** recommandé est **0.40** (équilibre sur F1), ajustable selon les objectifs opérationnels.\n",
        "- L'API FastAPI expose `/predict?threshold=...` permettant aux équipes métier de tester différents seuils sans redéploiement.\n",
        "- Pour l'industrialisation : utilisation de `train.py` (entraînement), `main.py` (API), conteneurisation Docker, et dashboard Streamlit pour la démonstration.\n"
      ]
    }
  ],
  "metadata": {
    "kernelspec": {
      "display_name": "Python 3",
      "language": "python",
      "name": "python3"
    },
    "language_info": {
      "codemirror_mode": {
        "name": "ipython",
        "version": 3
      },
      "file_extension": ".py",
      "mimetype": "text/x-python",
      "name": "python",
      "nbconvert_exporter": "python",
      "pygments_lexer": "ipython3",
      "version": "3.13.2"
    }
  },
  "nbformat": 4,
  "nbformat_minor": 5
}
